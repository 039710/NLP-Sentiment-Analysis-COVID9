{
 "cells": [
  {
   "cell_type": "markdown",
   "metadata": {},
   "source": [
    "# IAA by using Cohen Kappa Value"
   ]
  },
  {
   "cell_type": "code",
   "execution_count": 13,
   "metadata": {},
   "outputs": [],
   "source": [
    "import numpy as np\n",
    "import pandas as pd\n",
    "import matplotlib.pyplot as plt\n",
    "import math"
   ]
  },
  {
   "cell_type": "markdown",
   "metadata": {},
   "source": [
    "#### Code below is to calculate IAA by using Cohen Kappa.\n",
    "#### Each dataset which are labeled by each annotator will be open and then calculate each Po and Pe value in order to be able to use cohen Kappa formula"
   ]
  },
  {
   "cell_type": "markdown",
   "metadata": {},
   "source": [
    "## Open dataset from annotator 1"
   ]
  },
  {
   "cell_type": "code",
   "execution_count": 14,
   "metadata": {},
   "outputs": [],
   "source": [
    "df = pd.read_csv('dataset/IAA/sampletweet1.csv',error_bad_lines=False,sep=';')"
   ]
  },
  {
   "cell_type": "code",
   "execution_count": 15,
   "metadata": {},
   "outputs": [
    {
     "data": {
      "text/html": [
       "<div>\n",
       "<style scoped>\n",
       "    .dataframe tbody tr th:only-of-type {\n",
       "        vertical-align: middle;\n",
       "    }\n",
       "\n",
       "    .dataframe tbody tr th {\n",
       "        vertical-align: top;\n",
       "    }\n",
       "\n",
       "    .dataframe thead th {\n",
       "        text-align: right;\n",
       "    }\n",
       "</style>\n",
       "<table border=\"1\" class=\"dataframe\">\n",
       "  <thead>\n",
       "    <tr style=\"text-align: right;\">\n",
       "      <th></th>\n",
       "      <th>date</th>\n",
       "      <th>hashtag</th>\n",
       "      <th>tweet</th>\n",
       "      <th>username</th>\n",
       "      <th>intent</th>\n",
       "      <th>emotion</th>\n",
       "    </tr>\n",
       "  </thead>\n",
       "  <tbody>\n",
       "    <tr>\n",
       "      <th>0</th>\n",
       "      <td>22/05/2020 14:27</td>\n",
       "      <td>['#indonesiaterserah']</td>\n",
       "      <td>wes ng omah sui2 g gunaindonesiaterserah</td>\n",
       "      <td>halo kaleaan</td>\n",
       "      <td>negative</td>\n",
       "      <td>anger</td>\n",
       "    </tr>\n",
       "    <tr>\n",
       "      <th>1</th>\n",
       "      <td>22/05/2020 14:27</td>\n",
       "      <td>['#pdip', '#mesuji', '#lampung', '#bansos']</td>\n",
       "      <td>pdip mesuji salurkan paket sembako untuk warga...</td>\n",
       "      <td>haluan lampung</td>\n",
       "      <td>positive</td>\n",
       "      <td>love</td>\n",
       "    </tr>\n",
       "    <tr>\n",
       "      <th>2</th>\n",
       "      <td>22/05/2020 14:26</td>\n",
       "      <td>['#indonesiamelawancovid19', '#indonesiaterser...</td>\n",
       "      <td>pemerintah selain harus mengangani corono yang...</td>\n",
       "      <td>lukman hakim</td>\n",
       "      <td>negative</td>\n",
       "      <td>anger</td>\n",
       "    </tr>\n",
       "    <tr>\n",
       "      <th>3</th>\n",
       "      <td>22/05/2020 14:24</td>\n",
       "      <td>['#coronaindonesia', '#indonesiaterserah', '#d...</td>\n",
       "      <td>masih rentan nggakatau mungkin kita belum baik...</td>\n",
       "      <td>sayed halik</td>\n",
       "      <td>negative</td>\n",
       "      <td>sad</td>\n",
       "    </tr>\n",
       "    <tr>\n",
       "      <th>4</th>\n",
       "      <td>22/05/2020 14:24</td>\n",
       "      <td>['#indonesiaterserah', '#terserahindonesia', '...</td>\n",
       "      <td>terima kasih covid berkat dirimu hadir di bula...</td>\n",
       "      <td>faisamuhammad</td>\n",
       "      <td>negative</td>\n",
       "      <td>sad</td>\n",
       "    </tr>\n",
       "  </tbody>\n",
       "</table>\n",
       "</div>"
      ],
      "text/plain": [
       "               date                                            hashtag  \\\n",
       "0  22/05/2020 14:27                             ['#indonesiaterserah']   \n",
       "1  22/05/2020 14:27        ['#pdip', '#mesuji', '#lampung', '#bansos']   \n",
       "2  22/05/2020 14:26  ['#indonesiamelawancovid19', '#indonesiaterser...   \n",
       "3  22/05/2020 14:24  ['#coronaindonesia', '#indonesiaterserah', '#d...   \n",
       "4  22/05/2020 14:24  ['#indonesiaterserah', '#terserahindonesia', '...   \n",
       "\n",
       "                                               tweet        username  \\\n",
       "0           wes ng omah sui2 g gunaindonesiaterserah    halo kaleaan   \n",
       "1  pdip mesuji salurkan paket sembako untuk warga...  haluan lampung   \n",
       "2  pemerintah selain harus mengangani corono yang...    lukman hakim   \n",
       "3  masih rentan nggakatau mungkin kita belum baik...     sayed halik   \n",
       "4  terima kasih covid berkat dirimu hadir di bula...   faisamuhammad   \n",
       "\n",
       "     intent emotion  \n",
       "0  negative   anger  \n",
       "1  positive    love  \n",
       "2  negative   anger  \n",
       "3  negative     sad  \n",
       "4  negative     sad  "
      ]
     },
     "execution_count": 15,
     "metadata": {},
     "output_type": "execute_result"
    }
   ],
   "source": [
    "df.head()"
   ]
  },
  {
   "cell_type": "code",
   "execution_count": 16,
   "metadata": {},
   "outputs": [
    {
     "name": "stdout",
     "output_type": "stream",
     "text": [
      "574\n"
     ]
    }
   ],
   "source": [
    "print(len(df))"
   ]
  },
  {
   "cell_type": "markdown",
   "metadata": {},
   "source": [
    "## Open dataset from annotator 2"
   ]
  },
  {
   "cell_type": "code",
   "execution_count": 17,
   "metadata": {},
   "outputs": [],
   "source": [
    "df1 = pd.read_csv('dataset/IAA/sampletweet2.csv',error_bad_lines=False,sep=';')"
   ]
  },
  {
   "cell_type": "code",
   "execution_count": 18,
   "metadata": {},
   "outputs": [
    {
     "data": {
      "text/html": [
       "<div>\n",
       "<style scoped>\n",
       "    .dataframe tbody tr th:only-of-type {\n",
       "        vertical-align: middle;\n",
       "    }\n",
       "\n",
       "    .dataframe tbody tr th {\n",
       "        vertical-align: top;\n",
       "    }\n",
       "\n",
       "    .dataframe thead th {\n",
       "        text-align: right;\n",
       "    }\n",
       "</style>\n",
       "<table border=\"1\" class=\"dataframe\">\n",
       "  <thead>\n",
       "    <tr style=\"text-align: right;\">\n",
       "      <th></th>\n",
       "      <th>date</th>\n",
       "      <th>hashtag</th>\n",
       "      <th>tweet</th>\n",
       "      <th>username</th>\n",
       "      <th>intent</th>\n",
       "      <th>emotion</th>\n",
       "    </tr>\n",
       "  </thead>\n",
       "  <tbody>\n",
       "    <tr>\n",
       "      <th>0</th>\n",
       "      <td>22/05/2020 14:27</td>\n",
       "      <td>['#indonesiaterserah']</td>\n",
       "      <td>wes ng omah sui2 g gunaindonesiaterserah</td>\n",
       "      <td>halo kaleaan</td>\n",
       "      <td>negative</td>\n",
       "      <td>anger</td>\n",
       "    </tr>\n",
       "    <tr>\n",
       "      <th>1</th>\n",
       "      <td>22/05/2020 14:27</td>\n",
       "      <td>['#pdip', '#mesuji', '#lampung', '#bansos']</td>\n",
       "      <td>pdip mesuji salurkan paket sembako untuk warga...</td>\n",
       "      <td>haluan lampung</td>\n",
       "      <td>positive</td>\n",
       "      <td>love</td>\n",
       "    </tr>\n",
       "    <tr>\n",
       "      <th>2</th>\n",
       "      <td>22/05/2020 14:26</td>\n",
       "      <td>['#indonesiamelawancovid19', '#indonesiaterser...</td>\n",
       "      <td>pemerintah selain harus mengangani corono yang...</td>\n",
       "      <td>lukman hakim</td>\n",
       "      <td>positive</td>\n",
       "      <td>love</td>\n",
       "    </tr>\n",
       "    <tr>\n",
       "      <th>3</th>\n",
       "      <td>22/05/2020 14:24</td>\n",
       "      <td>['#coronaindonesia', '#indonesiaterserah', '#d...</td>\n",
       "      <td>masih rentan nggakatau mungkin kita belum baik...</td>\n",
       "      <td>sayed halik</td>\n",
       "      <td>negative</td>\n",
       "      <td>anger</td>\n",
       "    </tr>\n",
       "    <tr>\n",
       "      <th>4</th>\n",
       "      <td>22/05/2020 14:24</td>\n",
       "      <td>['#indonesiaterserah', '#terserahindonesia', '...</td>\n",
       "      <td>terima kasih covid berkat dirimu hadir di bula...</td>\n",
       "      <td>faisamuhammad</td>\n",
       "      <td>negative</td>\n",
       "      <td>sad</td>\n",
       "    </tr>\n",
       "  </tbody>\n",
       "</table>\n",
       "</div>"
      ],
      "text/plain": [
       "               date                                            hashtag  \\\n",
       "0  22/05/2020 14:27                             ['#indonesiaterserah']   \n",
       "1  22/05/2020 14:27        ['#pdip', '#mesuji', '#lampung', '#bansos']   \n",
       "2  22/05/2020 14:26  ['#indonesiamelawancovid19', '#indonesiaterser...   \n",
       "3  22/05/2020 14:24  ['#coronaindonesia', '#indonesiaterserah', '#d...   \n",
       "4  22/05/2020 14:24  ['#indonesiaterserah', '#terserahindonesia', '...   \n",
       "\n",
       "                                               tweet        username  \\\n",
       "0           wes ng omah sui2 g gunaindonesiaterserah    halo kaleaan   \n",
       "1  pdip mesuji salurkan paket sembako untuk warga...  haluan lampung   \n",
       "2  pemerintah selain harus mengangani corono yang...    lukman hakim   \n",
       "3  masih rentan nggakatau mungkin kita belum baik...     sayed halik   \n",
       "4  terima kasih covid berkat dirimu hadir di bula...   faisamuhammad   \n",
       "\n",
       "     intent emotion  \n",
       "0  negative   anger  \n",
       "1  positive    love  \n",
       "2  positive    love  \n",
       "3  negative   anger  \n",
       "4  negative     sad  "
      ]
     },
     "execution_count": 18,
     "metadata": {},
     "output_type": "execute_result"
    }
   ],
   "source": [
    "df1.head()"
   ]
  },
  {
   "cell_type": "code",
   "execution_count": 19,
   "metadata": {},
   "outputs": [
    {
     "name": "stdout",
     "output_type": "stream",
     "text": [
      "574\n"
     ]
    }
   ],
   "source": [
    "print(len(df1))"
   ]
  },
  {
   "cell_type": "markdown",
   "metadata": {},
   "source": [
    "## Intialize variable"
   ]
  },
  {
   "cell_type": "code",
   "execution_count": 20,
   "metadata": {},
   "outputs": [],
   "source": [
    "pp,np,pn,nn = 0,0,0,0\n"
   ]
  },
  {
   "cell_type": "code",
   "execution_count": 21,
   "metadata": {},
   "outputs": [],
   "source": [
    "for x in range(len(df['intent'])):\n",
    "    if df['intent'][x] == \"positive\" and df1['intent'][x] == \"positive\": #a\n",
    "        pp = pp+1\n",
    "    if df['intent'][x] == \"positive\" and df1['intent'][x] == \"negative\": #b\n",
    "        pn = pn+1\n",
    "    if df['intent'][x] == \"negative\" and df1['intent'][x] == \"positive\": #c\n",
    "        np = np+1\n",
    "    if df['intent'][x] == \"negative\" and df1['intent'][x] == \"negative\": #d\n",
    "        nn = nn +1"
   ]
  },
  {
   "cell_type": "code",
   "execution_count": 22,
   "metadata": {},
   "outputs": [
    {
     "name": "stdout",
     "output_type": "stream",
     "text": [
      "rater 1 and rater 2 both classified tweet as positive :  49\n",
      "rater 1 classified positive and rater 2 classified negative :  7\n",
      "rater 1 classified negative and rater 2 classified positive :  22\n",
      "rater 1 and rater 2 both classified tweet as negative :  495\n",
      "total dataset =  573\n"
     ]
    }
   ],
   "source": [
    "print('rater 1 and rater 2 both classified tweet as positive : ', pp)\n",
    "print('rater 1 classified positive and rater 2 classified negative : ', pn)\n",
    "print('rater 1 classified negative and rater 2 classified positive : ', np)\n",
    "print('rater 1 and rater 2 both classified tweet as negative : ', nn)\n",
    "print('total dataset = ', pp+pn+np+nn)"
   ]
  },
  {
   "cell_type": "code",
   "execution_count": 23,
   "metadata": {},
   "outputs": [],
   "source": [
    "total = len(df)-1"
   ]
  },
  {
   "cell_type": "markdown",
   "metadata": {},
   "source": [
    "## observerd agreement value"
   ]
  },
  {
   "cell_type": "code",
   "execution_count": 24,
   "metadata": {},
   "outputs": [
    {
     "name": "stdout",
     "output_type": "stream",
     "text": [
      "0.9493891797556719\n"
     ]
    }
   ],
   "source": [
    "observed_agreement = (pp+nn)/(pp+nn+np+pn)\n",
    "print(observed_agreement)"
   ]
  },
  {
   "cell_type": "markdown",
   "metadata": {},
   "source": [
    "## chance agreement value"
   ]
  },
  {
   "cell_type": "code",
   "execution_count": 25,
   "metadata": {},
   "outputs": [
    {
     "name": "stdout",
     "output_type": "stream",
     "text": [
      "0.012109804494881658 0.7904693158386862 0.8025791203335678\n"
     ]
    }
   ],
   "source": [
    "chance_positive = ((pp+pn)/total) * ((pp+np)/total) \n",
    "chance_negative = ((np+nn)/total) * ((pn+nn)/total)\n",
    "chance_agreement = chance_positive + chance_negative\n",
    "print(chance_positive, chance_negative, chance_agreement)"
   ]
  },
  {
   "cell_type": "markdown",
   "metadata": {},
   "source": [
    "## cohen Kappa"
   ]
  },
  {
   "cell_type": "code",
   "execution_count": 26,
   "metadata": {},
   "outputs": [
    {
     "name": "stdout",
     "output_type": "stream",
     "text": [
      "0.7436399821040129\n"
     ]
    }
   ],
   "source": [
    "k = (observed_agreement - chance_agreement)/(1-chance_agreement)\n",
    "print(k)"
   ]
  },
  {
   "cell_type": "markdown",
   "metadata": {},
   "source": [
    "## Second Kappa"
   ]
  },
  {
   "cell_type": "code",
   "execution_count": 27,
   "metadata": {},
   "outputs": [],
   "source": [
    "df3 = pd.read_csv('dataset/IAA/sampletweet3.csv',error_bad_lines=False,sep=';',encoding='latin1')"
   ]
  },
  {
   "cell_type": "code",
   "execution_count": 28,
   "metadata": {},
   "outputs": [
    {
     "data": {
      "text/html": [
       "<div>\n",
       "<style scoped>\n",
       "    .dataframe tbody tr th:only-of-type {\n",
       "        vertical-align: middle;\n",
       "    }\n",
       "\n",
       "    .dataframe tbody tr th {\n",
       "        vertical-align: top;\n",
       "    }\n",
       "\n",
       "    .dataframe thead th {\n",
       "        text-align: right;\n",
       "    }\n",
       "</style>\n",
       "<table border=\"1\" class=\"dataframe\">\n",
       "  <thead>\n",
       "    <tr style=\"text-align: right;\">\n",
       "      <th></th>\n",
       "      <th>date</th>\n",
       "      <th>hashtag</th>\n",
       "      <th>tweet</th>\n",
       "      <th>username</th>\n",
       "      <th>intent</th>\n",
       "      <th>emotion</th>\n",
       "    </tr>\n",
       "  </thead>\n",
       "  <tbody>\n",
       "    <tr>\n",
       "      <th>0</th>\n",
       "      <td>26/05/2020 18:25</td>\n",
       "      <td>['#indonesiaabnormal', '#indonesiaterserah']</td>\n",
       "      <td>luar binasa tanggung jawabnya sang pemimpin si...</td>\n",
       "      <td>arya teja</td>\n",
       "      <td>negative</td>\n",
       "      <td>anger</td>\n",
       "    </tr>\n",
       "    <tr>\n",
       "      <th>1</th>\n",
       "      <td>26/05/2020 18:21</td>\n",
       "      <td>['#covid_19', '#coronaviruspandemic', '#indone...</td>\n",
       "      <td>heh tolonglah jangan pada egois sumpah gua tuh...</td>\n",
       "      <td>suga girlfriend</td>\n",
       "      <td>negative</td>\n",
       "      <td>anger</td>\n",
       "    </tr>\n",
       "    <tr>\n",
       "      <th>2</th>\n",
       "      <td>26/05/2020 18:14</td>\n",
       "      <td>['#bacotsantuy', '#indonesiaterserah', '#indon...</td>\n",
       "      <td>mencari dan mencari bacotsantuy indonesiaterse...</td>\n",
       "      <td>sisna</td>\n",
       "      <td>negative</td>\n",
       "      <td>sad</td>\n",
       "    </tr>\n",
       "    <tr>\n",
       "      <th>3</th>\n",
       "      <td>26/05/2020 18:12</td>\n",
       "      <td>['#indonesiaterserah', '#indonesiaabnormal']</td>\n",
       "      <td>ok diy daerah percobaan apakah pemerintah tida...</td>\n",
       "      <td>akudng</td>\n",
       "      <td>negative</td>\n",
       "      <td>anger</td>\n",
       "    </tr>\n",
       "    <tr>\n",
       "      <th>4</th>\n",
       "      <td>26/05/2020 18:09</td>\n",
       "      <td>['#indonesiaterserah', '#indonesiaabnormal']</td>\n",
       "      <td>duta pengusaha mall duta konglomerat naga9 sak...</td>\n",
       "      <td>terbit di timur</td>\n",
       "      <td>negative</td>\n",
       "      <td>anger</td>\n",
       "    </tr>\n",
       "  </tbody>\n",
       "</table>\n",
       "</div>"
      ],
      "text/plain": [
       "               date                                            hashtag  \\\n",
       "0  26/05/2020 18:25       ['#indonesiaabnormal', '#indonesiaterserah']   \n",
       "1  26/05/2020 18:21  ['#covid_19', '#coronaviruspandemic', '#indone...   \n",
       "2  26/05/2020 18:14  ['#bacotsantuy', '#indonesiaterserah', '#indon...   \n",
       "3  26/05/2020 18:12       ['#indonesiaterserah', '#indonesiaabnormal']   \n",
       "4  26/05/2020 18:09       ['#indonesiaterserah', '#indonesiaabnormal']   \n",
       "\n",
       "                                               tweet         username  \\\n",
       "0  luar binasa tanggung jawabnya sang pemimpin si...        arya teja   \n",
       "1  heh tolonglah jangan pada egois sumpah gua tuh...  suga girlfriend   \n",
       "2  mencari dan mencari bacotsantuy indonesiaterse...            sisna   \n",
       "3  ok diy daerah percobaan apakah pemerintah tida...           akudng   \n",
       "4  duta pengusaha mall duta konglomerat naga9 sak...  terbit di timur   \n",
       "\n",
       "     intent emotion  \n",
       "0  negative   anger  \n",
       "1  negative   anger  \n",
       "2  negative     sad  \n",
       "3  negative   anger  \n",
       "4  negative   anger  "
      ]
     },
     "execution_count": 28,
     "metadata": {},
     "output_type": "execute_result"
    }
   ],
   "source": [
    "df3.head()"
   ]
  },
  {
   "cell_type": "code",
   "execution_count": 29,
   "metadata": {},
   "outputs": [
    {
     "name": "stdout",
     "output_type": "stream",
     "text": [
      "413\n"
     ]
    }
   ],
   "source": [
    "print(len(df3))"
   ]
  },
  {
   "cell_type": "code",
   "execution_count": 30,
   "metadata": {},
   "outputs": [],
   "source": [
    "df4 = pd.read_csv('dataset/IAA/sampletweet4.csv',error_bad_lines=False,sep=';',encoding='latin1')"
   ]
  },
  {
   "cell_type": "markdown",
   "metadata": {},
   "source": [
    "df4.head()\n"
   ]
  },
  {
   "cell_type": "code",
   "execution_count": 31,
   "metadata": {},
   "outputs": [
    {
     "name": "stdout",
     "output_type": "stream",
     "text": [
      "413\n"
     ]
    }
   ],
   "source": [
    "print(len(df4))"
   ]
  },
  {
   "cell_type": "code",
   "execution_count": 32,
   "metadata": {},
   "outputs": [],
   "source": [
    "pp,np,pn,nn = 0,0,0,0\n",
    "for x in range(len(df3['intent'])):\n",
    "    if df3['intent'][x] == \"positive\" and df4['intent'][x] == \"positive\": #a\n",
    "        pp = pp+1\n",
    "    if df3['intent'][x] == \"positive\" and df4['intent'][x] == \"negative\": #b\n",
    "        pn = pn+1\n",
    "    if df3['intent'][x] == \"negative\" and df4['intent'][x] == \"positive\": #c\n",
    "        np = np+1\n",
    "    if df3['intent'][x] == \"negative\" and df4['intent'][x] == \"negative\": #d\n",
    "        nn = nn +1"
   ]
  },
  {
   "cell_type": "code",
   "execution_count": 33,
   "metadata": {},
   "outputs": [
    {
     "name": "stdout",
     "output_type": "stream",
     "text": [
      "rater 1 and rater 2 both classified tweet as positive :  47\n",
      "rater 1 classified positive and rater 2 classified negative :  15\n",
      "rater 1 classified negative and rater 2 classified positive :  1\n",
      "rater 1 and rater 2 both classified tweet as negative :  350\n",
      "total dataset =  413\n"
     ]
    }
   ],
   "source": [
    "print('rater 1 and rater 2 both classified tweet as positive : ', pp)\n",
    "print('rater 1 classified positive and rater 2 classified negative : ', pn)\n",
    "print('rater 1 classified negative and rater 2 classified positive : ', np)\n",
    "print('rater 1 and rater 2 both classified tweet as negative : ', nn)\n",
    "print('total dataset = ', pp+pn+np+nn)"
   ]
  },
  {
   "cell_type": "markdown",
   "metadata": {},
   "source": [
    "# Observerd Agreement"
   ]
  },
  {
   "cell_type": "code",
   "execution_count": 34,
   "metadata": {},
   "outputs": [
    {
     "name": "stdout",
     "output_type": "stream",
     "text": [
      "0.9612590799031477\n"
     ]
    }
   ],
   "source": [
    "total = len(df3)-1\n",
    "observed_agreement = (pp+nn)/(pp+nn+np+pn)\n",
    "print(observed_agreement)"
   ]
  },
  {
   "cell_type": "markdown",
   "metadata": {},
   "source": [
    "# Chance Agreement"
   ]
  },
  {
   "cell_type": "code",
   "execution_count": 35,
   "metadata": {},
   "outputs": [
    {
     "name": "stdout",
     "output_type": "stream",
     "text": [
      "0.01753228390988783 0.7547542181166934 0.7722865020265812\n"
     ]
    }
   ],
   "source": [
    "chance_positive = ((pp+pn)/total) * ((pp+np)/total) \n",
    "chance_negative = ((np+nn)/total) * ((pn+nn)/total)\n",
    "chance_agreement = chance_positive + chance_negative\n",
    "print(chance_positive, chance_negative, chance_agreement)"
   ]
  },
  {
   "cell_type": "markdown",
   "metadata": {},
   "source": [
    "# Cohen Kappa"
   ]
  },
  {
   "cell_type": "code",
   "execution_count": 36,
   "metadata": {},
   "outputs": [
    {
     "name": "stdout",
     "output_type": "stream",
     "text": [
      "0.7436399821040129 0.8298699003720257\n"
     ]
    }
   ],
   "source": [
    "k1 = (observed_agreement - chance_agreement)/(1-chance_agreement)\n",
    "print(k,k1)"
   ]
  },
  {
   "cell_type": "markdown",
   "metadata": {},
   "source": [
    "# Average Kappa"
   ]
  },
  {
   "cell_type": "code",
   "execution_count": 37,
   "metadata": {},
   "outputs": [
    {
     "name": "stdout",
     "output_type": "stream",
     "text": [
      "New Kappa value 0.7867549412380193\n"
     ]
    }
   ],
   "source": [
    "k2 = (k+k1)/2\n",
    "print(\"New Kappa value\", k2)"
   ]
  },
  {
   "cell_type": "code",
   "execution_count": null,
   "metadata": {},
   "outputs": [],
   "source": []
  }
 ],
 "metadata": {
  "kernelspec": {
   "display_name": "Python 3",
   "language": "python",
   "name": "python3"
  },
  "language_info": {
   "codemirror_mode": {
    "name": "ipython",
    "version": 3
   },
   "file_extension": ".py",
   "mimetype": "text/x-python",
   "name": "python",
   "nbconvert_exporter": "python",
   "pygments_lexer": "ipython3",
   "version": "3.6.4"
  }
 },
 "nbformat": 4,
 "nbformat_minor": 2
}
