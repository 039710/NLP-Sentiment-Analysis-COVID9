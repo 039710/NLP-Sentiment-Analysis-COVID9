{
 "cells": [
  {
   "cell_type": "markdown",
   "metadata": {},
   "source": [
    "# Import library"
   ]
  },
  {
   "cell_type": "code",
   "execution_count": 2,
   "metadata": {},
   "outputs": [],
   "source": [
    "import numpy as np\n",
    "import pandas as pd\n",
    "import matplotlib.pyplot as plt\n",
    "import math\n",
    "import csv\n",
    "import re\n",
    "import json\n",
    "import imblearn\n",
    "import sklearn.metrics as metrics\n",
    "from collections import Counter\n",
    "from imblearn.over_sampling import SMOTE\n",
    "from matplotlib import pyplot\n",
    "from nltk.tokenize import sent_tokenize, word_tokenize\n",
    "from nltk.tokenize import word_tokenize, RegexpTokenizer\n",
    "from numpy import where\n",
    "from Sastrawi.Stemmer.StemmerFactory import StemmerFactory\n",
    "from sklearn.model_selection import cross_val_score\n",
    "from sklearn import datasets, linear_model\n",
    "from sklearn import preprocessing\n",
    "from sklearn.preprocessing import PolynomialFeatures\n",
    "from sklearn.feature_extraction.text import TfidfVectorizer \n",
    "from sklearn.feature_extraction.text import CountVectorizer\n",
    "from sklearn.datasets import make_classification\n",
    "from sklearn.svm import SVC\n",
    "from sklearn.naive_bayes import MultinomialNB\n",
    "from sklearn.tree import DecisionTreeClassifier\n",
    "from sklearn.linear_model import LogisticRegression\n",
    "from sklearn.ensemble import RandomForestClassifier\n",
    "from sklearn.model_selection import train_test_split\n",
    "from wordcloud import WordCloud\n",
    "from imblearn.over_sampling import BorderlineSMOTE, SMOTE, ADASYN, SMOTENC, RandomOverSampler"
   ]
  },
  {
   "cell_type": "markdown",
   "metadata": {},
   "source": [
    "# Opening Dataset and convert it into Array"
   ]
  },
  {
   "cell_type": "code",
   "execution_count": 3,
   "metadata": {},
   "outputs": [
    {
     "name": "stdout",
     "output_type": "stream",
     "text": [
      "total tweets :  1211\n"
     ]
    }
   ],
   "source": [
    "dataset = []\n",
    "with open ('../dataset/dataset_training.csv',encoding=\"latin1\") as csvfile:\n",
    "    readCSV = csv.DictReader(csvfile, delimiter=';')\n",
    "    \n",
    "    for row in readCSV:\n",
    "        tweets = row['tweet']    \n",
    "        usernames = row['username']\n",
    "        hashtags = row['hashtag']\n",
    "        dates = row['date']\n",
    "        intent = row['intent']\n",
    "        emotion = row['emotion']\n",
    "        dataset.append({\n",
    "            'date' : dates,\n",
    "            'username' : usernames,\n",
    "            'tweet' : tweets,\n",
    "            'hashtag' : hashtags,\n",
    "            'intent' : intent,\n",
    "            'emotion' : emotion\n",
    "        })\n",
    "            \n",
    "        \n",
    "print(\"total tweets : \" , len(dataset))"
   ]
  },
  {
   "cell_type": "markdown",
   "metadata": {},
   "source": [
    "# Normalization"
   ]
  },
  {
   "cell_type": "markdown",
   "metadata": {},
   "source": [
    "The purpose of normalization are to remove non Indonesian word such as slang words and abbreviations will be converted to standard Indonesian words. the list is created by iterating to each feature in the dataset and list them with their normal word (standar word)"
   ]
  },
  {
   "cell_type": "markdown",
   "metadata": {},
   "source": [
    "## Load list of typo words"
   ]
  },
  {
   "cell_type": "code",
   "execution_count": 4,
   "metadata": {},
   "outputs": [
    {
     "name": "stdout",
     "output_type": "stream",
     "text": [
      "total typo words :  169\n"
     ]
    }
   ],
   "source": [
    "typo_list = []\n",
    "with open ('../feature_list/typo.csv',encoding=\"latin1\") as csvfile:\n",
    "    readCSV = csv.DictReader(csvfile, delimiter=',')\n",
    "    for row in readCSV:\n",
    "        word = row['typo']    \n",
    "        standard_word = row['standard_form']\n",
    "        typo_list.append({\n",
    "            'word' : word,\n",
    "            'standard_word' : standard_word\n",
    "        })  \n",
    "print(\"total typo words : \" , len(typo_list))"
   ]
  },
  {
   "cell_type": "markdown",
   "metadata": {},
   "source": [
    "## Load list of abbreviations words"
   ]
  },
  {
   "cell_type": "code",
   "execution_count": 5,
   "metadata": {},
   "outputs": [
    {
     "name": "stdout",
     "output_type": "stream",
     "text": [
      "total abbreviation words :  362\n"
     ]
    }
   ],
   "source": [
    "abbreviation_list = []\n",
    "with open ('../feature_list/abbreviation.csv',encoding=\"latin1\") as csvfile:\n",
    "    readCSV = csv.DictReader(csvfile, delimiter=',')\n",
    "    for row in readCSV:\n",
    "        word = row['abbreviations']    \n",
    "        standard_word = row['non-abbreviations']\n",
    "        abbreviation_list.append({\n",
    "            'word' : word,\n",
    "            'standard_word' : standard_word\n",
    "        })      \n",
    "print(\"total abbreviation words : \" , len(abbreviation_list))"
   ]
  },
  {
   "cell_type": "markdown",
   "metadata": {},
   "source": [
    "## Load list of slang words"
   ]
  },
  {
   "cell_type": "code",
   "execution_count": 6,
   "metadata": {},
   "outputs": [
    {
     "name": "stdout",
     "output_type": "stream",
     "text": [
      "total slang words :  58\n"
     ]
    }
   ],
   "source": [
    "slang_list = []\n",
    "with open ('../feature_list/slangwords.csv',encoding=\"latin1\") as csvfile:\n",
    "    readCSV = csv.DictReader(csvfile, delimiter=',')\n",
    "    for row in readCSV:\n",
    "        word = row['slang_word']    \n",
    "        standard_word = row['formal_word']\n",
    "        slang_list.append({\n",
    "            'word' : word,\n",
    "            'standard_word' : standard_word\n",
    "        })     \n",
    "print(\"total slang words : \" , len(slang_list))"
   ]
  },
  {
   "cell_type": "markdown",
   "metadata": {},
   "source": [
    "## Load combination list of slang words,abbreviation words, and typo words"
   ]
  },
  {
   "cell_type": "code",
   "execution_count": 7,
   "metadata": {},
   "outputs": [
    {
     "name": "stdout",
     "output_type": "stream",
     "text": [
      "total word_list :  697\n"
     ]
    }
   ],
   "source": [
    "word_list = []\n",
    "with open ('../feature_list/word_list.csv',encoding=\"latin1\") as csvfile:\n",
    "    readCSV = csv.DictReader(csvfile, delimiter=',')\n",
    "    for row in readCSV:\n",
    "        word = row['word']    \n",
    "        standard_word = row['formal_word']\n",
    "        word_list.append({\n",
    "            'word' : word,\n",
    "            'standard_word' : standard_word\n",
    "        })    \n",
    "print(\"total word_list : \" , len(word_list))"
   ]
  },
  {
   "cell_type": "markdown",
   "metadata": {},
   "source": [
    "## Normalization"
   ]
  },
  {
   "cell_type": "code",
   "execution_count": 8,
   "metadata": {},
   "outputs": [],
   "source": [
    "def languagePreprocessing(dataset):\n",
    "    for row in dataset:\n",
    "        word_tokens = word_tokenize(row['tweet']) \n",
    "        filtered_word = []\n",
    "        for x in range(len(word_tokens)):\n",
    "            for n in range(len(word_list)):\n",
    "                if word_tokens[x] == word_list[n]['word']:\n",
    "                    word_tokens[x] = word_list[n]['standard_word']\n",
    "                    filtered_word.append(word_tokens[x])\n",
    "            filtered_word.append(word_tokens[x])\n",
    "            filtered_word = list(dict.fromkeys(filtered_word))\n",
    "        row['tweet']= \" \".join(filtered_word)\n",
    "languagePreprocessing(dataset)"
   ]
  },
  {
   "cell_type": "markdown",
   "metadata": {},
   "source": [
    "\"After each list for each category listed, then I manually combine them into one csv file with two columns which are \"word\" and standard word\".\n",
    "By iterating each words after tokenization, if the word match in the document, then the word will be changed based on standard word in csv file."
   ]
  },
  {
   "cell_type": "markdown",
   "metadata": {},
   "source": [
    "# Stemming, Tokenization, Stopwords removal, remove unnecessary attribute"
   ]
  },
  {
   "cell_type": "markdown",
   "metadata": {},
   "source": [
    "## Load indonesian stopwords list (source)"
   ]
  },
  {
   "cell_type": "code",
   "execution_count": 9,
   "metadata": {},
   "outputs": [],
   "source": [
    "#Stopword\n",
    "stopWords = []\n",
    "#start getStopWordList\n",
    "def getStopWordList(stopWordListFileName):\n",
    "    #read the stopwords file and build a list\n",
    "    stopWords = []\n",
    "    stopWords.append('atuser')\n",
    "    stopWords.append('url')\n",
    "    stopWords.append('via')\n",
    "\n",
    "    fp = open(stopWordListFileName, 'r')\n",
    "    line = fp.readline()\n",
    "    while line:\n",
    "        word = line.strip()\n",
    "        stopWords.append(word)\n",
    "        line = fp.readline()\n",
    "    fp.close()\n",
    "    return stopWords\n",
    "\n",
    "st = open('../feature_list/stopwordsID.txt', 'r')\n",
    "stopWords = getStopWordList('../feature_list/stopwordsID.txt')\n",
    "#end"
   ]
  },
  {
   "cell_type": "code",
   "execution_count": 10,
   "metadata": {},
   "outputs": [
    {
     "name": "stdout",
     "output_type": "stream",
     "text": [
      "negation word detected :  tidak => menang\n",
      "negation word detected :  tidak => manfaat\n",
      "negation word detected :  tidak => nya\n",
      "negation word detected :  belum => mata\n",
      "negation word detected :  tidak => harga\n",
      "negation word detected :  tidak => bertanggungjawab\n",
      "negation word detected :  tidak => sasar\n",
      "negation word detected :  tidak => jangkau\n",
      "negation word detected :  tidak => paham\n",
      "negation word detected :  tidak => salah\n",
      "negation word detected :  tidak => pake\n",
      "negation word detected :  tidak => kerja\n",
      "negation word detected :  tidak => hasil\n",
      "negation word detected :  tidak => pakai\n",
      "negation word detected :  tak => sajaindonesiaterserah\n",
      "negation word detected :  tidak => tetangga\n",
      "negation word detected :  tidak => nambahmasih\n",
      "negation word detected :  tidak => indonesiaterserah\n",
      "negation word detected :  tidak => kerumun\n",
      "negation word detected :  tak => luput\n",
      "negation word detected :  tak => istilah\n",
      "negation word detected :  tidak => gengsi\n",
      "negation word detected :  kurang => sana\n",
      "negation word detected :  tidak => full\n",
      "negation word detected :  kurang => polsekkubu\n",
      "negation word detected :  tidak => bal\n",
      "negation word detected :  tidak => ambil\n",
      "negation word detected :  tidak => layak\n",
      "negation word detected :  tidak => jaman\n",
      "negation word detected :  tidak => indonesiaterserah\n",
      "negation word detected :  tidak => koreksi\n",
      "negation word detected :  tidak => indonesiaterserah\n",
      "negation word detected :  tidak => duli\n",
      "negation word detected :  tidak => sayang\n",
      "negation word detected :  kurang => bagus\n",
      "negation word detected :  tidak => alas\n",
      "negation word detected :  tidak => banget\n",
      "negation word detected :  kurang => sebentar\n",
      "negation word detected :  tidak => covidindonesia\n",
      "negation word detected :  belum => faham\n",
      "negation word detected :  tidak => bebas\n",
      "negation word detected :  tidak => biaya\n",
      "negation word detected :  tidak => sholat\n",
      "negation word detected :  tak => takut\n",
      "negation word detected :  tidak => pake\n",
      "negation word detected :  tidak => liat\n",
      "negation word detected :  tidak => selesaiindonesiaterserah\n",
      "negation word detected :  kurang => laksana\n",
      "negation word detected :  tidak => puas\n",
      "negation word detected :  tidak => layak\n",
      "negation word detected :  tidak => repot\n",
      "negation word detected :  belum => angka\n",
      "negation word detected :  tidak => n\n",
      "negation word detected :  kurang => negara\n",
      "negation word detected :  tidak => dpt\n",
      "negation word detected :  tidak => pakai\n",
      "negation word detected :  tidak => om\n",
      "negation word detected :  tidak => takut\n",
      "negation word detected :  tidak => kumpulkumpul\n",
      "negation word detected :  tidak => indonesiaterserah\n",
      "negation word detected :  belum => covid\n",
      "negation word detected :  tidak => mana\n",
      "negation word detected :  tak => covid\n",
      "negation word detected :  tidak => turun\n",
      "negation word detected :  tidak => bayang\n",
      "negation word detected :  tidak => pulang\n",
      "negation word detected :  tidak => banget\n",
      "negation word detected :  tak => sampai\n",
      "negation word detected :  belum => bantu\n",
      "negation word detected :  tidak => hati\n",
      "negation word detected :  tak => senyum\n",
      "negation word detected :  tidak => ngeyelaaan\n",
      "negation word detected :  tidak => ya\n",
      "negation word detected :  tak => sama\n",
      "negation word detected :  tidak => sayang\n",
      "negation word detected :  tidak => dipake\n",
      "negation word detected :  tak => peduli\n",
      "negation word detected :  tidak => mahal\n",
      "negation word detected :  tidak => sedia\n",
      "negation word detected :  tak => ilmu\n",
      "negation word detected :  tidak => softskill\n",
      "negation word detected :  tak => tunggu\n",
      "negation word detected :  tidak => pandang\n",
      "negation word detected :  tidak => muncul\n",
      "negation word detected :  tidak => pake\n",
      "negation word detected :  tidak => jangkau\n",
      "negation word detected :  tidak => relevan\n",
      "negation word detected :  tidak => tau\n",
      "negation word detected :  tidak => harga\n",
      "negation word detected :  tidak => rapid\n",
      "negation word detected :  tak => klaim\n",
      "negation word detected :  tidak => urus\n",
      "negation word detected :  tidak => bakda\n",
      "negation word detected :  tidak => serah\n",
      "negation word detected :  tidak => peduli\n",
      "negation word detected :  tidak => setia\n",
      "negation word detected :  tidak => munafik\n",
      "negation word detected :  tidak => banyak\n",
      "negation word detected :  tidak => nyerah\n",
      "negation word detected :  tidak => singgung\n",
      "negation word detected :  tak => lemah\n",
      "negation word detected :  tidak => nambah\n",
      "negation word detected :  tidak => test\n",
      "negation word detected :  tidak => jasa\n",
      "negation word detected :  tidak => salah\n",
      "negation word detected :  belum => putus\n",
      "negation word detected :  tak => jaga\n",
      "negation word detected :  tidak => suka\n",
      "negation word detected :  tidak => terap\n",
      "negation word detected :  tidak => pakai\n",
      "negation word detected :  tidak => daftar\n",
      "negation word detected :  tidak => anya\n",
      "negation word detected :  tidak => ngedadak\n",
      "negation word detected :  tidak => terima\n",
      "negation word detected :  tidak => kurang\n",
      "negation word detected :  kurang => sdm\n",
      "negation word detected :  kurang => maksimal\n",
      "negation word detected :  tidak => nekan\n",
      "negation word detected :  tidak => bangku\n",
      "negation word detected :  tidak => pikir\n",
      "negation word detected :  tidak => dengerin\n",
      "negation word detected :  tak => sudah\n",
      "negation word detected :  tidak => tau\n",
      "negation word detected :  tidak => usa\n",
      "negation word detected :  belum => kendali\n",
      "negation word detected :  tidak => mudah\n",
      "negation word detected :  tidak => didik\n",
      "negation word detected :  tidak => update\n",
      "negation word detected :  tidak => mis\n",
      "negation word detected :  tidak => syukur\n",
      "negation word detected :  tidak => percaya\n",
      "negation word detected :  tak => bayang\n",
      "negation word detected :  tidak => proses\n",
      "negation word detected :  tidak => nama\n",
      "negation word detected :  tidak => engga\n",
      "negation word detected :  tidak => perintah\n",
      "negation word detected :  tak => percaya\n",
      "negation word detected :  tidak => sia\n",
      "negation word detected :  tidak => ngikutin\n",
      "negation word detected :  tidak => harap\n",
      "negation word detected :  belum => bantu\n",
      "negation word detected :  tidak => tau\n",
      "negation word detected :  belum => terima\n",
      "negation word detected :  tidak => ajar\n",
      "negation word detected :  belum => bukti\n",
      "negation word detected :  tidak => orang\n",
      "negation word detected :  belum => aplikasi\n",
      "negation word detected :  tidak => tenang\n",
      "negation word detected :  tidak => indonesiaterserah\n",
      "negation word detected :  tidak => masuk\n",
      "negation word detected :  tidak => kalah\n",
      "negation word detected :  tidak => rumah\n",
      "negation word detected :  tidak => relevan\n",
      "negation word detected :  tidak => tapi\n",
      "negation word detected :  tidak => kitu\n",
      "negation word detected :  tidak => pimpin\n",
      "negation word detected :  tidak => gmna\n",
      "negation word detected :  tidak => paham\n",
      "negation word detected :  tidak => dapat\n",
      "negation word detected :  belum => bantu\n",
      "negation word detected :  tak => manfaat\n",
      "negation word detected :  tidak => taat\n",
      "negation word detected :  kurang => sebar\n",
      "negation word detected :  tidak => duit\n",
      "negation word detected :  belum => terap\n",
      "negation word detected :  tidak => paham\n",
      "negation word detected :  tidak => main\n",
      "negation word detected :  belum => bantu\n",
      "negation word detected :  kurang => asik\n",
      "negation word detected :  tidak => kompak\n",
      "negation word detected :  tidak => ya\n",
      "negation word detected :  belum => dkijakarta\n",
      "negation word detected :  tidak => pakai\n",
      "negation word detected :  tidak => guna\n",
      "negation word detected :  tidak => indonesiaterserah\n",
      "negation word detected :  tidak => bosan\n",
      "negation word detected :  tidak => ngerti\n",
      "negation word detected :  tidak => psbb\n",
      "negation word detected :  kurang => bagus\n",
      "negation word detected :  tidak => peduli\n",
      "negation word detected :  tak => taat\n",
      "negation word detected :  tak => rata\n",
      "negation word detected :  tidak => layak\n",
      "negation word detected :  tidak => si\n",
      "negation word detected :  tidak => kerumun\n",
      "negation word detected :  tidak => warga\n",
      "negation word detected :  tidak => sesuai\n",
      "negation word detected :  tidak => mesti\n",
      "negation word detected :  tak => lupa\n",
      "negation word detected :  tidak => jajah\n",
      "negation word detected :  tak => tinggal\n",
      "negation word detected :  tidak => full\n",
      "negation word detected :  kurang => bagus\n",
      "negation word detected :  tidak => get\n",
      "negation word detected :  tak => peduli\n",
      "negation word detected :  belum => turun\n",
      "negation word detected :  belum => terima\n",
      "negation word detected :  tidak => sesuai\n",
      "negation word detected :  tidak => salah\n",
      "negation word detected :  tidak => sih\n",
      "negation word detected :  tidak => bilang\n",
      "negation word detected :  tidak => tau\n",
      "negation word detected :  tidak => takut\n",
      "negation word detected :  kurang => tular\n",
      "negation word detected :  tidak => pergi\n",
      "negation word detected :  tidak => sesuai\n",
      "negation word detected :  tidak => kritik\n",
      "negation word detected :  tidak => putus\n",
      "negation word detected :  tidak => tunda\n",
      "negation word detected :  tidak => ikatanadmin\n",
      "negation word detected :  tidak => larang\n",
      "negation word detected :  tidak => ajar\n",
      "negation word detected :  tidak => tapi\n",
      "negation word detected :  tidak => tinggal\n",
      "negation word detected :  tidak => alih\n",
      "negation word detected :  tak => kunjung\n"
     ]
    },
    {
     "name": "stdout",
     "output_type": "stream",
     "text": [
      "negation word detected :  tidak => napas\n",
      "negation word detected :  tak => kurang\n",
      "negation word detected :  kurang => orang\n",
      "negation word detected :  tidak => tangan\n",
      "negation word detected :  tak => lolos\n",
      "negation word detected :  tidak => indonesiaterserah\n",
      "negation word detected :  tidak => singkron\n",
      "negation word detected :  tak => paham\n",
      "negation word detected :  tidak => siasia\n",
      "negation word detected :  tak => politisasi\n",
      "negation word detected :  tidak => bahaya\n",
      "negation word detected :  tidak => hilang\n",
      "negation word detected :  tidak => rakyat\n",
      "negation word detected :  tak => peduli\n",
      "negation word detected :  tidak => hasil\n",
      "negation word detected :  tak => picu\n",
      "negation word detected :  belum => bijak\n",
      "negation word detected :  tidak => kasat\n",
      "negation word detected :  tak => percaya\n",
      "negation word detected :  tidak => serah\n",
      "negation word detected :  tidak => sii\n",
      "negation word detected :  belum => new\n",
      "negation word detected :  tidak => erti\n",
      "negation word detected :  belum => tuntas\n",
      "negation word detected :  tidak => dihadang\n",
      "negation word detected :  tidak => dpt\n",
      "negation word detected :  tidak => tuju\n",
      "negation word detected :  tidak => menyalahgunakan\n",
      "negation word detected :  tidak => transparan\n",
      "negation word detected :  tidak => bantu\n",
      "negation word detected :  belum => beres\n",
      "negation word detected :  belum => data\n",
      "negation word detected :  tidak => diupdate\n",
      "negation word detected :  tak => tapi\n",
      "negation word detected :  tidak => mari\n",
      "negation word detected :  tidak => sengaja\n",
      "negation word detected :  tidak => menang\n",
      "negation word detected :  tidak => nyerah\n",
      "negation word detected :  tidak => modal\n",
      "negation word detected :  tidak => lak\n",
      "negation word detected :  tak => raya\n",
      "negation word detected :  tidak => peduli\n",
      "negation word detected :  tidak => keras\n",
      "negation word detected :  tidak => nyambung\n",
      "negation word detected :  tidak => manfaatin\n",
      "negation word detected :  tidak => ramai\n",
      "negation word detected :  tak => daya\n",
      "negation word detected :  kurang => gantung\n",
      "negation word detected :  tidak => peduli\n",
      "negation word detected :  tak => tag\n",
      "negation word detected :  kurang => sasar\n",
      "negation word detected :  belum => serah\n",
      "negation word detected :  tidak => muncul\n",
      "negation word detected :  tidak => tau\n",
      "negation word detected :  tak => serah\n",
      "negation word detected :  tidak => tumpah\n",
      "negation word detected :  tidak => baca\n",
      "negation word detected :  tidak => salah\n",
      "negation word detected :  tidak => taat\n",
      "negation word detected :  tidak => hak\n",
      "negation word detected :  tidak => bal\n",
      "negation word detected :  kurang => sebelumnyahappy\n",
      "negation word detected :  tidak => indonesiaterserah\n",
      "negation word detected :  tak => picu\n",
      "negation word detected :  tidak => indonesiaterserah\n",
      "negation word detected :  tidak => turun\n",
      "negation word detected :  tidak => sukaa\n",
      "total tweet with negation :  283\n"
     ]
    }
   ],
   "source": [
    "def preprocessing(dataset):\n",
    "    # create stemmer\n",
    "    factory = StemmerFactory()\n",
    "    stemmer = factory.create_stemmer()\n",
    "    negation_word = []\n",
    "    negated_word = []\n",
    "    negation_word_list = [\"tidak\",\"tanpa\",\"tak\",\"belum\",\"kurang\"]\n",
    "    count = 0\n",
    "    for row in dataset:\n",
    "        #print(\"before : \",row['tweet'])\n",
    "        #convert sentence in lowercase\n",
    "        row['tweet'] = row['tweet'].lower()\n",
    "        row['tweet'] = re.sub('[^A-Za-z0-9 ]+','', row['tweet'])\n",
    "        # remove number\n",
    "        row['tweet'] = re.sub('[0-9]+', '', row['tweet'])\n",
    "        row['tweet'] = re.sub(r'\\d+', '', row['tweet'])\n",
    "        #Convert www.* or https?://* to URL\n",
    "        row['tweet'] = re.sub('((www\\.[^\\s]+)|(https?://[^\\s]+))','URL',row['tweet'])\n",
    "        row['tweet'] = re.sub(r\"pictwittercom(\\w+)\", '',row['tweet'])\n",
    "        #remove hastag word\n",
    "        row['tweet'] = re.sub(r\"#(\\w+)\", '',row['tweet'])\n",
    "        #remove atuser words\n",
    "        row['tweet'] = row['tweet'].replace('atuser','')\n",
    "        \n",
    "       \n",
    "        #Tokenize\n",
    "        word_tokens = word_tokenize(row['tweet']) \n",
    "        #Stop word removal\n",
    "        filtered_sentence = [w for w in word_tokens if not w in stopWords]\n",
    "        row['tweet'] = \" \".join(filtered_sentence)\n",
    "        #stemming\n",
    "        filtered = [] \n",
    "        for v in filtered_sentence:\n",
    "            if \"NOT\" not in v:\n",
    "                filtered.append(stemmer.stem(v))\n",
    "            if \"NOT\" in v:\n",
    "                filtered.append(v)\n",
    "        row['tweet'] = \" \".join(filtered)\n",
    "        #negation handling\n",
    "        word_tokens = word_tokenize(row['tweet'])\n",
    "        for x in range(len(word_tokens)):\n",
    "            if word_tokens[x] in negation_word_list:\n",
    "                if(x+1 < len(word_tokens)):\n",
    "                    print(\"negation word detected : \",word_tokens[x], \"=>\",word_tokens[x+1])\n",
    "                    sentence = word_tokens[x] + \" \" + word_tokens[x+1]\n",
    "                    sentence_1 = \"not\" + \"_\" + word_tokens[x+1]\n",
    "                    negation_word.append(sentence)\n",
    "                    negated_word.append(sentence_1)\n",
    "                    count = count + 1\n",
    "        for x in range(len(negation_word)):\n",
    "            if(negation_word[x] in row['tweet']):\n",
    "                row['tweet'] = row['tweet'].replace(negation_word[x],negated_word[x])\n",
    "    print(\"total tweet with negation : \",count)\n",
    "preprocessing(dataset)\n"
   ]
  },
  {
   "cell_type": "markdown",
   "metadata": {},
   "source": [
    "# Convert to dataframe"
   ]
  },
  {
   "cell_type": "code",
   "execution_count": 11,
   "metadata": {},
   "outputs": [
    {
     "name": "stdout",
     "output_type": "stream",
     "text": [
      "<class 'pandas.core.frame.DataFrame'>\n"
     ]
    },
    {
     "data": {
      "text/html": [
       "<div>\n",
       "<style scoped>\n",
       "    .dataframe tbody tr th:only-of-type {\n",
       "        vertical-align: middle;\n",
       "    }\n",
       "\n",
       "    .dataframe tbody tr th {\n",
       "        vertical-align: top;\n",
       "    }\n",
       "\n",
       "    .dataframe thead th {\n",
       "        text-align: right;\n",
       "    }\n",
       "</style>\n",
       "<table border=\"1\" class=\"dataframe\">\n",
       "  <thead>\n",
       "    <tr style=\"text-align: right;\">\n",
       "      <th></th>\n",
       "      <th>date</th>\n",
       "      <th>emotion</th>\n",
       "      <th>hashtag</th>\n",
       "      <th>intent</th>\n",
       "      <th>tweet</th>\n",
       "      <th>username</th>\n",
       "    </tr>\n",
       "  </thead>\n",
       "  <tbody>\n",
       "    <tr>\n",
       "      <th>0</th>\n",
       "      <td>07/07/2020 12:14</td>\n",
       "      <td>anger</td>\n",
       "      <td>['#bansos', '#pandemic', '#koransindo']</td>\n",
       "      <td>negative</td>\n",
       "      <td>politisasi bansos covid not_menang pilkada awa...</td>\n",
       "      <td>pung purwanto</td>\n",
       "    </tr>\n",
       "    <tr>\n",
       "      <th>1</th>\n",
       "      <td>29/05/2020 10:19</td>\n",
       "      <td>love</td>\n",
       "      <td>['#bansos', '#bantuansosial', '#dtks', '#kemen...</td>\n",
       "      <td>positive</td>\n",
       "      <td>bansos bantuansosial dtks tri sosial sumedang ...</td>\n",
       "      <td>ruang berita</td>\n",
       "    </tr>\n",
       "    <tr>\n",
       "      <th>2</th>\n",
       "      <td>24/05/2020 00:55</td>\n",
       "      <td></td>\n",
       "      <td>['#indonesiaterserah']</td>\n",
       "      <td>positive</td>\n",
       "      <td>team rumah indonesiaterserah</td>\n",
       "      <td>abdul latief</td>\n",
       "    </tr>\n",
       "    <tr>\n",
       "      <th>3</th>\n",
       "      <td>26/05/2020 07:46</td>\n",
       "      <td></td>\n",
       "      <td>['#indonesiaterserah', '#covidiot']</td>\n",
       "      <td>positive</td>\n",
       "      <td>kemarin semangat buka akses zona hijau indones...</td>\n",
       "      <td>omgcorona</td>\n",
       "    </tr>\n",
       "    <tr>\n",
       "      <th>4</th>\n",
       "      <td>13/07/2020 23:38</td>\n",
       "      <td>anger</td>\n",
       "      <td>['#kemendagri', '#pilkada2020', '#bansos']</td>\n",
       "      <td>negative</td>\n",
       "      <td>tito ingat calon tahana not_manfaat bansos cor...</td>\n",
       "      <td>republik merdeka banten</td>\n",
       "    </tr>\n",
       "  </tbody>\n",
       "</table>\n",
       "</div>"
      ],
      "text/plain": [
       "               date emotion  \\\n",
       "0  07/07/2020 12:14   anger   \n",
       "1  29/05/2020 10:19    love   \n",
       "2  24/05/2020 00:55           \n",
       "3  26/05/2020 07:46           \n",
       "4  13/07/2020 23:38   anger   \n",
       "\n",
       "                                             hashtag    intent  \\\n",
       "0            ['#bansos', '#pandemic', '#koransindo']  negative   \n",
       "1  ['#bansos', '#bantuansosial', '#dtks', '#kemen...  positive   \n",
       "2                             ['#indonesiaterserah']  positive   \n",
       "3                ['#indonesiaterserah', '#covidiot']  positive   \n",
       "4         ['#kemendagri', '#pilkada2020', '#bansos']  negative   \n",
       "\n",
       "                                               tweet                 username  \n",
       "0  politisasi bansos covid not_menang pilkada awa...            pung purwanto  \n",
       "1  bansos bantuansosial dtks tri sosial sumedang ...             ruang berita  \n",
       "2                       team rumah indonesiaterserah             abdul latief  \n",
       "3  kemarin semangat buka akses zona hijau indones...                omgcorona  \n",
       "4  tito ingat calon tahana not_manfaat bansos cor...  republik merdeka banten  "
      ]
     },
     "execution_count": 11,
     "metadata": {},
     "output_type": "execute_result"
    }
   ],
   "source": [
    "df = pd.DataFrame(dataset)\n",
    "print(type(df))\n",
    "df.head()"
   ]
  },
  {
   "cell_type": "code",
   "execution_count": 12,
   "metadata": {},
   "outputs": [
    {
     "name": "stdout",
     "output_type": "stream",
     "text": [
      "0   politisasi bansos covid not_menang pilkada awas ketat pandemic koransindo\n",
      "1   bansos bantuansosial dtks tri sosial sumedang jabar indonesia kementeriansosial news ruberid\n",
      "2   team rumah indonesiaterserah\n",
      "3   kemarin semangat buka akses zona hijau indonesiaterserah covidiot\n",
      "4   tito ingat calon tahana not_manfaat bansos corona gambar kemendagri pilkada\n"
     ]
    }
   ],
   "source": [
    "for n in range (5):\n",
    "    print(n, ' ',dataset[n]['tweet'])"
   ]
  },
  {
   "cell_type": "markdown",
   "metadata": {},
   "source": [
    "# Check positive and negative classes"
   ]
  },
  {
   "cell_type": "code",
   "execution_count": 13,
   "metadata": {},
   "outputs": [
    {
     "name": "stdout",
     "output_type": "stream",
     "text": [
      "Count of positive tweets :  619\n",
      "Count of negative tweets :  592\n"
     ]
    }
   ],
   "source": [
    "filtered_data_negative = df[df[\"intent\"]=='negative']\n",
    "filtered_data_positive = df[df[\"intent\"]=='positive']\n",
    "\n",
    "\n",
    "print(\"Count of positive tweets : \", len(filtered_data_positive))\n",
    "print(\"Count of negative tweets : \", len(filtered_data_negative))"
   ]
  },
  {
   "cell_type": "markdown",
   "metadata": {},
   "source": [
    "Dataset are imbalance since the amount of positive tweets is way lower than negative tweets\n",
    "Since the classification wih imbalance class can cause low score on evaluation matrix such as for recall, a re-sampling method is needed.\n"
   ]
  },
  {
   "cell_type": "markdown",
   "metadata": {},
   "source": [
    "## Feature Extraction TF IDF without re-sampling approach"
   ]
  },
  {
   "cell_type": "code",
   "execution_count": 14,
   "metadata": {},
   "outputs": [
    {
     "name": "stdout",
     "output_type": "stream",
     "text": [
      "Counter({'positive': 619, 'negative': 592})\n"
     ]
    }
   ],
   "source": [
    "X = df['tweet']\n",
    "y = df['intent']\n",
    "#TFIDF\n",
    "tfidf_vectorizer = TfidfVectorizer() \n",
    "X = tfidf_vectorizer.fit_transform(X).toarray()\n",
    "\n",
    "print(Counter(y))"
   ]
  },
  {
   "cell_type": "code",
   "execution_count": 15,
   "metadata": {},
   "outputs": [
    {
     "name": "stdout",
     "output_type": "stream",
     "text": [
      "4504\n"
     ]
    }
   ],
   "source": [
    "vocab = tfidf_vectorizer.get_feature_names()\n",
    "print(len(vocab))"
   ]
  },
  {
   "cell_type": "code",
   "execution_count": 16,
   "metadata": {},
   "outputs": [
    {
     "data": {
      "text/plain": [
       "['emildardak',\n",
       " 'emildardakinstruksikan',\n",
       " 'empati',\n",
       " 'enak',\n",
       " 'enam',\n",
       " 'endonesia',\n",
       " 'endus',\n",
       " 'energi',\n",
       " 'enforcement',\n",
       " 'engap',\n",
       " 'enjoy',\n",
       " 'ente',\n",
       " 'entire']"
      ]
     },
     "execution_count": 16,
     "metadata": {},
     "output_type": "execute_result"
    }
   ],
   "source": [
    "vocab[1001:1014]"
   ]
  },
  {
   "cell_type": "code",
   "execution_count": 17,
   "metadata": {},
   "outputs": [
    {
     "data": {
      "text/plain": [
       "array([0., 0., 0., ..., 0., 0., 0.])"
      ]
     },
     "execution_count": 17,
     "metadata": {},
     "output_type": "execute_result"
    }
   ],
   "source": [
    "X[0]"
   ]
  },
  {
   "cell_type": "markdown",
   "metadata": {},
   "source": [
    "example of feature on the dataset"
   ]
  },
  {
   "cell_type": "code",
   "execution_count": 18,
   "metadata": {},
   "outputs": [
    {
     "name": "stdout",
     "output_type": "stream",
     "text": [
      "awas  :  0.3411394270493228\n",
      "bansos  :  0.10694536758215459\n",
      "covid  :  0.13769735186041135\n",
      "ketat  :  0.3804146482266746\n",
      "koransindo  :  0.41968986940402636\n",
      "not_menang  :  0.3967153378077462\n",
      "pandemic  :  0.3411394270493228\n",
      "pilkada  :  0.31816489545304266\n",
      "politisasi  :  0.3967153378077462\n"
     ]
    }
   ],
   "source": [
    "tf_idf_score = dict(zip(vocab, X[0]))\n",
    "for row in tf_idf_score:\n",
    "    if tf_idf_score[row] > 0 :\n",
    "        print (row, \" : \", tf_idf_score[row])"
   ]
  },
  {
   "cell_type": "markdown",
   "metadata": {},
   "source": [
    "# Classification Process"
   ]
  },
  {
   "cell_type": "markdown",
   "metadata": {},
   "source": [
    "## Split train and test data\n"
   ]
  },
  {
   "cell_type": "code",
   "execution_count": 229,
   "metadata": {},
   "outputs": [
    {
     "name": "stdout",
     "output_type": "stream",
     "text": [
      "Counter({'positive': 708, 'negative': 679})\n",
      "Counter({'negative': 188, 'positive': 159})\n"
     ]
    }
   ],
   "source": [
    "#X_train, X_test, y_train, y_test = train_test_split(X, y, test_size=0.2, random_state=42)\n",
    "X_train, X_test, y_train, y_test = train_test_split(X, y, test_size=0.2)\n",
    "\n",
    "print(Counter(y_train))\n",
    "print(Counter(y_test))"
   ]
  },
  {
   "cell_type": "code",
   "execution_count": 230,
   "metadata": {},
   "outputs": [],
   "source": [
    "#X_test, X_val, y_test, y_val = train_test_split(X_test, y_test, \n",
    "#                                                    test_size=0.8, \n",
    "#                                                    random_state=42)"
   ]
  },
  {
   "cell_type": "markdown",
   "metadata": {},
   "source": [
    "The proportion of split and training data are 80:20 which mean 20% of dataset will be use for test dataset and 80% will be used for training dataset."
   ]
  },
  {
   "cell_type": "code",
   "execution_count": 20,
   "metadata": {},
   "outputs": [
    {
     "data": {
      "text/plain": [
       "(1211, 4504)"
      ]
     },
     "execution_count": 20,
     "metadata": {},
     "output_type": "execute_result"
    }
   ],
   "source": [
    "X.shape"
   ]
  },
  {
   "cell_type": "code",
   "execution_count": 21,
   "metadata": {},
   "outputs": [
    {
     "data": {
      "text/plain": [
       "(1211,)"
      ]
     },
     "execution_count": 21,
     "metadata": {},
     "output_type": "execute_result"
    }
   ],
   "source": [
    "y.shape"
   ]
  },
  {
   "cell_type": "markdown",
   "metadata": {},
   "source": [
    "# Build naive bayes classification model"
   ]
  },
  {
   "cell_type": "code",
   "execution_count": 22,
   "metadata": {},
   "outputs": [
    {
     "data": {
      "text/plain": [
       "array(['negative', 'positive'], dtype='<U8')"
      ]
     },
     "execution_count": 22,
     "metadata": {},
     "output_type": "execute_result"
    }
   ],
   "source": [
    "from time import time\n",
    "\n",
    "text_classifier = MultinomialNB(alpha = 1, fit_prior = True, class_prior = None)\n",
    "text_classifier.fit(X, y)\n",
    "text_classifier.classes_"
   ]
  },
  {
   "cell_type": "code",
   "execution_count": 23,
   "metadata": {},
   "outputs": [],
   "source": [
    "neg_class_prob_sorted = text_classifier.feature_log_prob_\n",
    "pos_class_prob_sorted = text_classifier.feature_log_prob_\n",
    "\n",
    "neg_dict = dict(zip(vocab, neg_class_prob_sorted[0]))\n",
    "pos_dict = dict(zip(vocab, pos_class_prob_sorted[1]))"
   ]
  },
  {
   "cell_type": "code",
   "execution_count": 24,
   "metadata": {},
   "outputs": [
    {
     "name": "stdout",
     "output_type": "stream",
     "text": [
      "log probability of prior class :  [-0.71569511 -0.67109647]\n",
      "number of features in the model :  4504\n"
     ]
    }
   ],
   "source": [
    "print(\"log probability of prior class : \", text_classifier.class_log_prior_)\n",
    "print(\"number of features in the model : \",text_classifier.n_features_)"
   ]
  },
  {
   "cell_type": "code",
   "execution_count": null,
   "metadata": {},
   "outputs": [],
   "source": [
    "## opem tra"
   ]
  },
  {
   "cell_type": "code",
   "execution_count": null,
   "metadata": {},
   "outputs": [],
   "source": []
  },
  {
   "cell_type": "code",
   "execution_count": null,
   "metadata": {},
   "outputs": [],
   "source": []
  },
  {
   "cell_type": "code",
   "execution_count": 236,
   "metadata": {},
   "outputs": [
    {
     "name": "stdout",
     "output_type": "stream",
     "text": [
      "              precision    recall  f1-score   support\n",
      "\n",
      "    negative       0.86      0.76      0.80       188\n",
      "    positive       0.75      0.85      0.79       159\n",
      "\n",
      "    accuracy                           0.80       347\n",
      "   macro avg       0.80      0.80      0.80       347\n",
      "weighted avg       0.81      0.80      0.80       347\n",
      "\n",
      "0.7982708933717579\n"
     ]
    }
   ],
   "source": [
    "predictions = text_classifier.predict(X_test)\n",
    "from sklearn.metrics import classification_report, confusion_matrix, accuracy_score\n",
    "\n",
    "print(classification_report(y_test,predictions))  \n",
    "print(accuracy_score(y_test, predictions))"
   ]
  },
  {
   "cell_type": "code",
   "execution_count": 237,
   "metadata": {},
   "outputs": [
    {
     "name": "stdout",
     "output_type": "stream",
     "text": [
      "Accuracy : [0.81268012 0.78386167 0.77521614 0.81556196 0.76589595]\n",
      "Precision : [0.80337079 0.7816092  0.74742268 0.80555556 0.76436782]\n",
      "Recall : [0.8265896  0.78612717 0.83333333 0.83333333 0.76878613]\n",
      "F1 : [0.81481481 0.78386167 0.78804348 0.81920904 0.76657061]\n",
      "average accuracy :  0.79064316769669\n",
      "average precision :  0.7804652067958067\n",
      "average recall :  0.8096339113680153\n",
      "average f1 :  0.7944999218561535\n"
     ]
    }
   ],
   "source": [
    "y = y.map({'positive': 1, 'negative': 0}).astype(int)\n",
    "results_accuracy = cross_val_score(MultinomialNB(), X, y, cv=5,scoring=\"accuracy\")\n",
    "print(\"Accuracy :\", results_accuracy)\n",
    "from sklearn.preprocessing import LabelBinarizer\n",
    "lb = LabelBinarizer()\n",
    "y_train = np.array([number[0] for number in lb.fit_transform(y)])\n",
    "results_precision = cross_val_score(MultinomialNB(), X, y, cv=5,scoring=\"precision\")\n",
    "print(\"Precision :\", results_precision)\n",
    "results_recall = cross_val_score(MultinomialNB(), X, y, cv=5,scoring=\"recall\")\n",
    "print(\"Recall :\", results_recall)\n",
    "results_f1 = cross_val_score(MultinomialNB(), X, y, cv=5,scoring=\"f1\")\n",
    "print(\"F1 :\", results_f1)\n",
    "\n",
    "total = 0\n",
    "for x in results_accuracy:\n",
    "    total = total + x\n",
    "\n",
    "print(\"average accuracy : \",total/5)\n",
    "\n",
    "total = 0\n",
    "for x in results_precision:\n",
    "    total = total + x\n",
    "\n",
    "print(\"average precision : \",total/5)\n",
    "\n",
    "total = 0\n",
    "for x in results_recall:\n",
    "    total = total + x\n",
    "\n",
    "print(\"average recall : \",total/5)\n",
    "\n",
    "total = 0\n",
    "for x in results_f1:\n",
    "    total = total + x\n",
    "\n",
    "print(\"average f1 : \",total/5)"
   ]
  },
  {
   "cell_type": "code",
   "execution_count": null,
   "metadata": {},
   "outputs": [],
   "source": []
  },
  {
   "cell_type": "code",
   "execution_count": 238,
   "metadata": {},
   "outputs": [
    {
     "name": "stdout",
     "output_type": "stream",
     "text": [
      "pos :  181\n",
      "neg :  166\n"
     ]
    }
   ],
   "source": [
    "count_neg = 0\n",
    "count_pos = 0\n",
    "for row in predictions:\n",
    "    if row == \"negative\":\n",
    "        count_neg = count_neg +1 \n",
    "    if row == \"positive\":\n",
    "        count_pos = count_pos +1\n",
    "        \n",
    "print(\"pos : \",count_pos)\n",
    "print(\"neg : \",count_neg)"
   ]
  },
  {
   "cell_type": "markdown",
   "metadata": {},
   "source": [
    "## Inverse transform to obtain tweet text on test data"
   ]
  },
  {
   "cell_type": "code",
   "execution_count": 193,
   "metadata": {},
   "outputs": [],
   "source": [
    "X_test_text = []\n",
    "for row in range(len(X_test)):\n",
    "    X_test_text.append(tfidf_vectorizer.inverse_transform(X_test[row]))"
   ]
  },
  {
   "cell_type": "code",
   "execution_count": 194,
   "metadata": {},
   "outputs": [
    {
     "name": "stdout",
     "output_type": "stream",
     "text": [
      "<class 'numpy.ndarray'>\n"
     ]
    }
   ],
   "source": [
    "X_test_text = np.array(X_test_text)\n",
    "X_test_text  = X_test_text.ravel()\n",
    "X_test_text = np.array(X_test_text)\n",
    "print(type(X_test_text))"
   ]
  },
  {
   "cell_type": "code",
   "execution_count": 195,
   "metadata": {},
   "outputs": [],
   "source": [
    "X_test_tweet = []\n",
    "for tweet in range(len(X_test_text)):\n",
    "    makeitastring = ' '.join(map(str, X_test_text[tweet]))\n",
    "    X_test_tweet.append(makeitastring)\n",
    "    "
   ]
  },
  {
   "cell_type": "markdown",
   "metadata": {},
   "source": [
    "## Get false positive and false negative on the test data"
   ]
  },
  {
   "cell_type": "code",
   "execution_count": 196,
   "metadata": {},
   "outputs": [],
   "source": [
    "X_test_tweet = []\n",
    "for tweet in range(len(X_test_text)):\n",
    "    makeitastring = ' '.join(map(str, X_test_text[tweet]))\n",
    "    X_test_tweet.append(makeitastring)\n",
    "    "
   ]
  },
  {
   "cell_type": "code",
   "execution_count": 197,
   "metadata": {},
   "outputs": [
    {
     "data": {
      "text/html": [
       "<div>\n",
       "<style scoped>\n",
       "    .dataframe tbody tr th:only-of-type {\n",
       "        vertical-align: middle;\n",
       "    }\n",
       "\n",
       "    .dataframe tbody tr th {\n",
       "        vertical-align: top;\n",
       "    }\n",
       "\n",
       "    .dataframe thead th {\n",
       "        text-align: right;\n",
       "    }\n",
       "</style>\n",
       "<table border=\"1\" class=\"dataframe\">\n",
       "  <thead>\n",
       "    <tr style=\"text-align: right;\">\n",
       "      <th></th>\n",
       "      <th>Text</th>\n",
       "      <th>True label</th>\n",
       "      <th>Predicted label</th>\n",
       "    </tr>\n",
       "  </thead>\n",
       "  <tbody>\n",
       "    <tr>\n",
       "      <th>714</th>\n",
       "      <td>barudirumah barulembaran barusemangat covidnew...</td>\n",
       "      <td>positive</td>\n",
       "      <td>positive</td>\n",
       "    </tr>\n",
       "    <tr>\n",
       "      <th>10</th>\n",
       "      <td>awas bansos bansosbebaskorupsi bio covid dukun...</td>\n",
       "      <td>negative</td>\n",
       "      <td>negative</td>\n",
       "    </tr>\n",
       "    <tr>\n",
       "      <th>332</th>\n",
       "      <td>bulan imbas indonesiaterserah kawan keluarga k...</td>\n",
       "      <td>negative</td>\n",
       "      <td>negative</td>\n",
       "    </tr>\n",
       "    <tr>\n",
       "      <th>118</th>\n",
       "      <td>bansos cepat evaluasi juta kartu keluarga pagu...</td>\n",
       "      <td>negative</td>\n",
       "      <td>positive</td>\n",
       "    </tr>\n",
       "    <tr>\n",
       "      <th>224</th>\n",
       "      <td>aparat eh goblok indonesiaterserah kerumun mcd...</td>\n",
       "      <td>negative</td>\n",
       "      <td>negative</td>\n",
       "    </tr>\n",
       "  </tbody>\n",
       "</table>\n",
       "</div>"
      ],
      "text/plain": [
       "                                                  Text True label  \\\n",
       "714  barudirumah barulembaran barusemangat covidnew...   positive   \n",
       "10   awas bansos bansosbebaskorupsi bio covid dukun...   negative   \n",
       "332  bulan imbas indonesiaterserah kawan keluarga k...   negative   \n",
       "118  bansos cepat evaluasi juta kartu keluarga pagu...   negative   \n",
       "224  aparat eh goblok indonesiaterserah kerumun mcd...   negative   \n",
       "\n",
       "    Predicted label  \n",
       "714        positive  \n",
       "10         negative  \n",
       "332        negative  \n",
       "118        positive  \n",
       "224        negative  "
      ]
     },
     "execution_count": 197,
     "metadata": {},
     "output_type": "execute_result"
    }
   ],
   "source": [
    "d = {'Text':X_test_tweet,'True label':y_test, 'Predicted label' : predictions}\n",
    "df_test = pd.DataFrame(d)\n",
    "df_test.head()"
   ]
  },
  {
   "cell_type": "code",
   "execution_count": 198,
   "metadata": {},
   "outputs": [],
   "source": [
    "y_test_temp = []\n",
    "for row in y_test:\n",
    "    y_test_temp.append(row)"
   ]
  },
  {
   "cell_type": "code",
   "execution_count": 199,
   "metadata": {},
   "outputs": [],
   "source": [
    "tweet_text_fn = []\n",
    "true_label_fn = []\n",
    "predicted_label_fn = []\n",
    "predicted_label_fp = []\n",
    "tweet_text_fp = []\n",
    "true_label_fp = []"
   ]
  },
  {
   "cell_type": "code",
   "execution_count": 200,
   "metadata": {},
   "outputs": [],
   "source": [
    "for row in range(len(y_test_temp)):\n",
    "    #false negative\n",
    "    if(y_test_temp[row] == \"positive\" and predictions[row] == \"negative\"):\n",
    "        #print(X_test_text[row], \" - \", y_test_temp[row], \" - \",predictions[row])\n",
    "        tweet_text_fn.append(X_test_text[row])\n",
    "        true_label_fn.append(y_test_temp[row])\n",
    "        predicted_label_fn.append(predictions[row])\n",
    "    #false positive\n",
    "    if(y_test_temp[row] == \"negative\" and predictions[row] == \"positive\"):\n",
    "        #print(X_test_text[row], \" - \", y_test_temp[row], \" - \",predictions[row])\n",
    "        tweet_text_fp.append(X_test_text[row])\n",
    "        true_label_fp.append(y_test_temp[row])\n",
    "        predicted_label_fp.append(predictions[row])\n"
   ]
  },
  {
   "cell_type": "code",
   "execution_count": 201,
   "metadata": {},
   "outputs": [],
   "source": [
    "tweet_text_fn_ = []\n",
    "tweet_text_fp_ = []\n",
    "for x in tweet_text_fn:\n",
    "    makeitastring = ' '.join(map(str, x))\n",
    "    tweet_text_fn_.append(makeitastring)\n",
    "for x in tweet_text_fp:\n",
    "    makeitastring = ' '.join(map(str, x))\n",
    "    tweet_text_fp_.append(makeitastring)"
   ]
  },
  {
   "cell_type": "code",
   "execution_count": 202,
   "metadata": {},
   "outputs": [
    {
     "data": {
      "text/html": [
       "<div>\n",
       "<style scoped>\n",
       "    .dataframe tbody tr th:only-of-type {\n",
       "        vertical-align: middle;\n",
       "    }\n",
       "\n",
       "    .dataframe tbody tr th {\n",
       "        vertical-align: top;\n",
       "    }\n",
       "\n",
       "    .dataframe thead th {\n",
       "        text-align: right;\n",
       "    }\n",
       "</style>\n",
       "<table border=\"1\" class=\"dataframe\">\n",
       "  <thead>\n",
       "    <tr style=\"text-align: right;\">\n",
       "      <th></th>\n",
       "      <th>False neagtive tweet</th>\n",
       "    </tr>\n",
       "  </thead>\n",
       "  <tbody>\n",
       "    <tr>\n",
       "      <th>0</th>\n",
       "      <td>bebas belanjakumparannewsindonesiaterserah bic...</td>\n",
       "    </tr>\n",
       "    <tr>\n",
       "      <th>1</th>\n",
       "      <td>bansos duit giat hati matang rakyat rencana</td>\n",
       "    </tr>\n",
       "    <tr>\n",
       "      <th>2</th>\n",
       "      <td>adu bansos bantul corona posko tangan</td>\n",
       "    </tr>\n",
       "    <tr>\n",
       "      <th>3</th>\n",
       "      <td>ajasemoga indonesiaterserah ngedoain not_pedul...</td>\n",
       "    </tr>\n",
       "    <tr>\n",
       "      <th>4</th>\n",
       "      <td>coba indonesia indonesiaterserah rubah</td>\n",
       "    </tr>\n",
       "  </tbody>\n",
       "</table>\n",
       "</div>"
      ],
      "text/plain": [
       "                                False neagtive tweet\n",
       "0  bebas belanjakumparannewsindonesiaterserah bic...\n",
       "1        bansos duit giat hati matang rakyat rencana\n",
       "2              adu bansos bantul corona posko tangan\n",
       "3  ajasemoga indonesiaterserah ngedoain not_pedul...\n",
       "4             coba indonesia indonesiaterserah rubah"
      ]
     },
     "execution_count": 202,
     "metadata": {},
     "output_type": "execute_result"
    }
   ],
   "source": [
    "d = {'False neagtive tweet':tweet_text_fn_}\n",
    "df_fn = pd.DataFrame(d)\n",
    "df_fn.head()"
   ]
  },
  {
   "cell_type": "code",
   "execution_count": 203,
   "metadata": {},
   "outputs": [
    {
     "data": {
      "text/html": [
       "<div>\n",
       "<style scoped>\n",
       "    .dataframe tbody tr th:only-of-type {\n",
       "        vertical-align: middle;\n",
       "    }\n",
       "\n",
       "    .dataframe tbody tr th {\n",
       "        vertical-align: top;\n",
       "    }\n",
       "\n",
       "    .dataframe thead th {\n",
       "        text-align: right;\n",
       "    }\n",
       "</style>\n",
       "<table border=\"1\" class=\"dataframe\">\n",
       "  <thead>\n",
       "    <tr style=\"text-align: right;\">\n",
       "      <th></th>\n",
       "      <th>False positive tweet</th>\n",
       "    </tr>\n",
       "  </thead>\n",
       "  <tbody>\n",
       "    <tr>\n",
       "      <th>0</th>\n",
       "      <td>bansos cepat evaluasi juta kartu keluarga pagu...</td>\n",
       "    </tr>\n",
       "    <tr>\n",
       "      <th>1</th>\n",
       "      <td>bansos banten berantas covid indikasi ketidakw...</td>\n",
       "    </tr>\n",
       "    <tr>\n",
       "      <th>2</th>\n",
       "      <td>bansos bantu covid edyrahmayadi gubernur kota ...</td>\n",
       "    </tr>\n",
       "    <tr>\n",
       "      <th>3</th>\n",
       "      <td>bansos bantu bantuanya beras bltlampung bupati...</td>\n",
       "    </tr>\n",
       "    <tr>\n",
       "      <th>4</th>\n",
       "      <td>bansos beritaterkini birokrasi budi corona cov...</td>\n",
       "    </tr>\n",
       "  </tbody>\n",
       "</table>\n",
       "</div>"
      ],
      "text/plain": [
       "                                False positive tweet\n",
       "0  bansos cepat evaluasi juta kartu keluarga pagu...\n",
       "1  bansos banten berantas covid indikasi ketidakw...\n",
       "2  bansos bantu covid edyrahmayadi gubernur kota ...\n",
       "3  bansos bantu bantuanya beras bltlampung bupati...\n",
       "4  bansos beritaterkini birokrasi budi corona cov..."
      ]
     },
     "execution_count": 203,
     "metadata": {},
     "output_type": "execute_result"
    }
   ],
   "source": [
    "d = {'False positive tweet':tweet_text_fp_}\n",
    "df_fp = pd.DataFrame(d)\n",
    "df_fp.head()"
   ]
  },
  {
   "cell_type": "markdown",
   "metadata": {},
   "source": [
    "## Confusion Matrix"
   ]
  },
  {
   "cell_type": "code",
   "execution_count": 204,
   "metadata": {},
   "outputs": [
    {
     "name": "stdout",
     "output_type": "stream",
     "text": [
      "Confusion matrix, without normalization\n",
      "[[129  34]\n",
      " [ 38 146]]\n",
      "Normalized confusion matrix\n",
      "[[0.79141104 0.20858896]\n",
      " [0.20652174 0.79347826]]\n"
     ]
    },
    {
     "data": {
      "image/png": "[encoded data removed]",
      "text/plain": [
       "<Figure size 432x288 with 2 Axes>"
      ]
     },
     "metadata": {},
     "output_type": "display_data"
    },
    {
     "data": {
      "image/png": "[encoded data removed]",
      "text/plain": [
       "<Figure size 432x288 with 2 Axes>"
      ]
     },
     "metadata": {},
     "output_type": "display_data"
    }
   ],
   "source": [
    "from sklearn.metrics import plot_confusion_matrix\n",
    "# Plot non-normalized confusion matrix\n",
    "titles_options = [(\"Confusion matrix, without normalization\", None),\n",
    "                  (\"Normalized confusion matrix\", 'true')]\n",
    "for title, normalize in titles_options:\n",
    "    disp = plot_confusion_matrix(text_classifier, X_test, y_test,\n",
    "                                 display_labels=['Negative','Positive'],\n",
    "                                 cmap=plt.cm.Blues,\n",
    "                                 normalize=normalize)\n",
    "    disp.ax_.set_title(title)\n",
    "\n",
    "    print(title)\n",
    "    print(disp.confusion_matrix)\n",
    "\n",
    "plt.show()"
   ]
  },
  {
   "cell_type": "markdown",
   "metadata": {},
   "source": [
    "## Error analysis negation handling"
   ]
  },
  {
   "cell_type": "code",
   "execution_count": 205,
   "metadata": {},
   "outputs": [],
   "source": [
    "def custompreprocessing(tweet):\n",
    "    word_tokens = word_tokenize(tweet)\n",
    "    negation_word = []\n",
    "    negated_word = []\n",
    "    for x in range(len(word_tokens)):\n",
    "        if word_tokens[x] in negation_word_list:\n",
    "            if(x+1 < len(word_tokens)):\n",
    "                sentence = word_tokens[x] + \" \" + word_tokens[x+1]\n",
    "                sentence_1 = \"not\" + \"_\" + word_tokens[x+1]\n",
    "                negation_word.append(sentence)\n",
    "                negated_word.append(sentence_1)\n",
    "    for x in range(len(negation_word)):\n",
    "        if(negation_word[x] in tweet):\n",
    "            tweet = tweet.replace(negation_word[x],negated_word[x])\n",
    "    return tweet"
   ]
  },
  {
   "cell_type": "code",
   "execution_count": 206,
   "metadata": {},
   "outputs": [],
   "source": [
    "def cuspreprocessing(tweet):\n",
    "    factory = StemmerFactory()\n",
    "    stemmer = factory.create_stemmer()\n",
    "    negation_word_list = [\"tidak\",\"tanpa\",\"tak\",\"belum\",\"kurang\"]\n",
    "    negation_word = []\n",
    "    negated_word = []\n",
    "    count = 0\n",
    "    for row in tweet:\n",
    "        #print(\"before : \",row['tweet'])\n",
    "        #convert sentence in lowercase\n",
    "        row = row.lower()\n",
    "        row = re.sub('[^A-Za-z0-9 ]+','', row)\n",
    "        # remove number\n",
    "        row = re.sub('[0-9]+', '', row)\n",
    "        row = re.sub(r'\\d+', '', row)\n",
    "        #Convert www.* or https?://* to URL\n",
    "        row = re.sub('((www\\.[^\\s]+)|(https?://[^\\s]+))','URL',row)\n",
    "        row = re.sub(r\"pictwittercom(\\w+)\", '',row)\n",
    "        #remove hastag word\n",
    "        row = re.sub(r\"#(\\w+)\", '',row)\n",
    "        #remove atuser words\n",
    "        row = row.replace('atuser','')\n",
    "        \n",
    "        #Tokenize\n",
    "        word_tokens = word_tokenize(row)\n",
    "        #negation handling\n",
    "        for x in range(len(word_tokens)):\n",
    "            if word_tokens[x] in negation_word_list:\n",
    "                if(x+1 < len(word_tokens)):\n",
    "                    sentence = word_tokens[x] + \" \" + word_tokens[x+1]\n",
    "                    sentence_1 = \"not\" + \"_\" + word_tokens[x+1]\n",
    "                    negation_word.append(sentence)\n",
    "                    negated_word.append(sentence_1)\n",
    "                    print(negation_word, \" -> \",negated_word)\n",
    "                    count = count + 1\n",
    "        for x in range(len(negation_word)):\n",
    "            if(negation_word[x] in row):\n",
    "                row = row.replace(negation_word[x],negated_word[x])\n",
    "        word_tokens = word_tokenize(row)\n",
    "        #Stop word removal\n",
    "        filtered_sentence = [w for w in word_tokens if not w in stopWords]\n",
    "        row = \" \".join(filtered_sentence)\n",
    "        \n",
    "        #stemming\n",
    "        filtered = [] \n",
    "        for v in filtered_sentence:\n",
    "            if \"not\" not in v:\n",
    "                filtered.append(stemmer.stem(v))\n",
    "            if \"not\" in v:\n",
    "                filtered.append(v)\n",
    "        row = \" \".join(filtered)\n",
    "        \n",
    "    print(\"total tweet with negation : \",count)\n",
    "    return row"
   ]
  },
  {
   "cell_type": "markdown",
   "metadata": {},
   "source": [
    "The function above is created to detect negation in single tweet text and transform negated word into \"NOT_\"  + word."
   ]
  },
  {
   "cell_type": "code",
   "execution_count": 207,
   "metadata": {},
   "outputs": [],
   "source": [
    "neg = []\n",
    "neg_log_proba = []\n",
    "pos = []\n",
    "pos_log_proba = []\n",
    "for row in neg_dict:\n",
    "    if(\"not_\" in row):\n",
    "        neg.append(row)\n",
    "        neg_log_proba.append(neg_dict[row])\n",
    "\n",
    "for row in pos_dict:\n",
    "    if(\"not_\" in row):\n",
    "        pos.append(row)\n",
    "        pos_log_proba.append(pos_dict[row])"
   ]
  },
  {
   "cell_type": "code",
   "execution_count": 208,
   "metadata": {},
   "outputs": [
    {
     "data": {
      "text/html": [
       "<div>\n",
       "<style scoped>\n",
       "    .dataframe tbody tr th:only-of-type {\n",
       "        vertical-align: middle;\n",
       "    }\n",
       "\n",
       "    .dataframe tbody tr th {\n",
       "        vertical-align: top;\n",
       "    }\n",
       "\n",
       "    .dataframe thead th {\n",
       "        text-align: right;\n",
       "    }\n",
       "</style>\n",
       "<table border=\"1\" class=\"dataframe\">\n",
       "  <thead>\n",
       "    <tr style=\"text-align: right;\">\n",
       "      <th></th>\n",
       "      <th>feature</th>\n",
       "      <th>negative log proba</th>\n",
       "      <th>positive log proba</th>\n",
       "    </tr>\n",
       "  </thead>\n",
       "  <tbody>\n",
       "    <tr>\n",
       "      <th>0</th>\n",
       "      <td>not_acara</td>\n",
       "      <td>-8.968585</td>\n",
       "      <td>-8.724529</td>\n",
       "    </tr>\n",
       "    <tr>\n",
       "      <th>1</th>\n",
       "      <td>not_ajar</td>\n",
       "      <td>-8.393998</td>\n",
       "      <td>-8.975594</td>\n",
       "    </tr>\n",
       "    <tr>\n",
       "      <th>2</th>\n",
       "      <td>not_alas</td>\n",
       "      <td>-8.968585</td>\n",
       "      <td>-8.975594</td>\n",
       "    </tr>\n",
       "    <tr>\n",
       "      <th>3</th>\n",
       "      <td>not_alih</td>\n",
       "      <td>-8.968585</td>\n",
       "      <td>-8.975594</td>\n",
       "    </tr>\n",
       "    <tr>\n",
       "      <th>4</th>\n",
       "      <td>not_ambil</td>\n",
       "      <td>-8.968585</td>\n",
       "      <td>-8.669608</td>\n",
       "    </tr>\n",
       "  </tbody>\n",
       "</table>\n",
       "</div>"
      ],
      "text/plain": [
       "     feature  negative log proba  positive log proba\n",
       "0  not_acara           -8.968585           -8.724529\n",
       "1   not_ajar           -8.393998           -8.975594\n",
       "2   not_alas           -8.968585           -8.975594\n",
       "3   not_alih           -8.968585           -8.975594\n",
       "4  not_ambil           -8.968585           -8.669608"
      ]
     },
     "execution_count": 208,
     "metadata": {},
     "output_type": "execute_result"
    }
   ],
   "source": [
    "d = {'feature':neg, \"negative log proba\":neg_log_proba,\"positive log proba\":pos_log_proba}\n",
    "df_log_proba = pd.DataFrame(d)\n",
    "df_log_proba.head()"
   ]
  },
  {
   "cell_type": "markdown",
   "metadata": {},
   "source": [
    "The cell above shows the log probability of feature"
   ]
  },
  {
   "cell_type": "code",
   "execution_count": 209,
   "metadata": {},
   "outputs": [
    {
     "name": "stdout",
     "output_type": "stream",
     "text": [
      "log probability of prior class :  [-0.67812006 -0.70840356]\n"
     ]
    }
   ],
   "source": [
    "print(\"log probability of prior class : \", text_classifier.class_log_prior_)"
   ]
  },
  {
   "cell_type": "code",
   "execution_count": 210,
   "metadata": {},
   "outputs": [
    {
     "ename": "NameError",
     "evalue": "name 'negation_word_list' is not defined",
     "output_type": "error",
     "traceback": [
      "\u001b[1;31m---------------------------------------------------------------------------\u001b[0m",
      "\u001b[1;31mNameError\u001b[0m                                 Traceback (most recent call last)",
      "\u001b[1;32m<ipython-input-210-dd131ee2f033>\u001b[0m in \u001b[0;36m<module>\u001b[1;34m()\u001b[0m\n\u001b[0;32m      1\u001b[0m \u001b[0mtest_text\u001b[0m \u001b[1;33m=\u001b[0m \u001b[1;33m[\u001b[0m\u001b[1;34m\"tidak ambil\"\u001b[0m\u001b[1;33m]\u001b[0m\u001b[1;33m\u001b[0m\u001b[0m\n\u001b[1;32m----> 2\u001b[1;33m \u001b[0mnew_test_text\u001b[0m \u001b[1;33m=\u001b[0m \u001b[0mcustompreprocessing\u001b[0m\u001b[1;33m(\u001b[0m\u001b[0mtest_text\u001b[0m\u001b[1;33m[\u001b[0m\u001b[1;36m0\u001b[0m\u001b[1;33m]\u001b[0m\u001b[1;33m)\u001b[0m\u001b[1;33m\u001b[0m\u001b[0m\n\u001b[0m\u001b[0;32m      3\u001b[0m \u001b[0mpredict\u001b[0m \u001b[1;33m=\u001b[0m \u001b[0mtext_classifier\u001b[0m\u001b[1;33m.\u001b[0m\u001b[0mpredict\u001b[0m\u001b[1;33m(\u001b[0m\u001b[0mtfidf_vectorizer\u001b[0m\u001b[1;33m.\u001b[0m\u001b[0mtransform\u001b[0m\u001b[1;33m(\u001b[0m\u001b[1;33m[\u001b[0m\u001b[0mnew_test_text\u001b[0m\u001b[1;33m]\u001b[0m\u001b[1;33m)\u001b[0m\u001b[1;33m)\u001b[0m\u001b[1;33m\u001b[0m\u001b[0m\n\u001b[0;32m      4\u001b[0m \u001b[0mlog_proba_predict\u001b[0m \u001b[1;33m=\u001b[0m \u001b[0mtext_classifier\u001b[0m\u001b[1;33m.\u001b[0m\u001b[0mpredict_proba\u001b[0m\u001b[1;33m(\u001b[0m\u001b[0mtfidf_vectorizer\u001b[0m\u001b[1;33m.\u001b[0m\u001b[0mtransform\u001b[0m\u001b[1;33m(\u001b[0m\u001b[1;33m[\u001b[0m\u001b[0mnew_test_text\u001b[0m\u001b[1;33m]\u001b[0m\u001b[1;33m)\u001b[0m\u001b[1;33m)\u001b[0m\u001b[1;33m\u001b[0m\u001b[0m\n\u001b[0;32m      5\u001b[0m \u001b[0mprint\u001b[0m\u001b[1;33m(\u001b[0m\u001b[0mnew_test_text\u001b[0m\u001b[1;33m)\u001b[0m\u001b[1;33m\u001b[0m\u001b[0m\n",
      "\u001b[1;32m<ipython-input-205-5f2a765a88aa>\u001b[0m in \u001b[0;36mcustompreprocessing\u001b[1;34m(tweet)\u001b[0m\n\u001b[0;32m      4\u001b[0m     \u001b[0mnegated_word\u001b[0m \u001b[1;33m=\u001b[0m \u001b[1;33m[\u001b[0m\u001b[1;33m]\u001b[0m\u001b[1;33m\u001b[0m\u001b[0m\n\u001b[0;32m      5\u001b[0m     \u001b[1;32mfor\u001b[0m \u001b[0mx\u001b[0m \u001b[1;32min\u001b[0m \u001b[0mrange\u001b[0m\u001b[1;33m(\u001b[0m\u001b[0mlen\u001b[0m\u001b[1;33m(\u001b[0m\u001b[0mword_tokens\u001b[0m\u001b[1;33m)\u001b[0m\u001b[1;33m)\u001b[0m\u001b[1;33m:\u001b[0m\u001b[1;33m\u001b[0m\u001b[0m\n\u001b[1;32m----> 6\u001b[1;33m         \u001b[1;32mif\u001b[0m \u001b[0mword_tokens\u001b[0m\u001b[1;33m[\u001b[0m\u001b[0mx\u001b[0m\u001b[1;33m]\u001b[0m \u001b[1;32min\u001b[0m \u001b[0mnegation_word_list\u001b[0m\u001b[1;33m:\u001b[0m\u001b[1;33m\u001b[0m\u001b[0m\n\u001b[0m\u001b[0;32m      7\u001b[0m             \u001b[1;32mif\u001b[0m\u001b[1;33m(\u001b[0m\u001b[0mx\u001b[0m\u001b[1;33m+\u001b[0m\u001b[1;36m1\u001b[0m \u001b[1;33m<\u001b[0m \u001b[0mlen\u001b[0m\u001b[1;33m(\u001b[0m\u001b[0mword_tokens\u001b[0m\u001b[1;33m)\u001b[0m\u001b[1;33m)\u001b[0m\u001b[1;33m:\u001b[0m\u001b[1;33m\u001b[0m\u001b[0m\n\u001b[0;32m      8\u001b[0m                 \u001b[0msentence\u001b[0m \u001b[1;33m=\u001b[0m \u001b[0mword_tokens\u001b[0m\u001b[1;33m[\u001b[0m\u001b[0mx\u001b[0m\u001b[1;33m]\u001b[0m \u001b[1;33m+\u001b[0m \u001b[1;34m\" \"\u001b[0m \u001b[1;33m+\u001b[0m \u001b[0mword_tokens\u001b[0m\u001b[1;33m[\u001b[0m\u001b[0mx\u001b[0m\u001b[1;33m+\u001b[0m\u001b[1;36m1\u001b[0m\u001b[1;33m]\u001b[0m\u001b[1;33m\u001b[0m\u001b[0m\n",
      "\u001b[1;31mNameError\u001b[0m: name 'negation_word_list' is not defined"
     ]
    }
   ],
   "source": [
    "test_text = [\"tidak ambil\"]\n",
    "new_test_text = custompreprocessing(test_text[0])\n",
    "predict = text_classifier.predict(tfidf_vectorizer.transform([new_test_text]))\n",
    "log_proba_predict = text_classifier.predict_proba(tfidf_vectorizer.transform([new_test_text]))\n",
    "print(new_test_text)\n",
    "print(\"classified as : \",predict)\n",
    "print(\"log probability :\",log_proba_predict)\n"
   ]
  },
  {
   "cell_type": "code",
   "execution_count": null,
   "metadata": {},
   "outputs": [],
   "source": [
    "test_text = [\"tidak adaaaaaaa\"]\n",
    "new_test_text = custompreprocessing(test_text[0])\n",
    "predict = text_classifier.predict(tfidf_vectorizer.transform([new_test_text]))\n",
    "log_proba_predict = text_classifier.predict_proba(tfidf_vectorizer.transform([new_test_text]))\n",
    "print(new_test_text)\n",
    "print(\"classified as : \",predict)\n",
    "print(\"log probability :\",log_proba_predict)\n"
   ]
  },
  {
   "cell_type": "markdown",
   "metadata": {},
   "source": [
    "The classification of text \"tidak ambil\" is based on calculation of log probability of feautre.\n",
    "Since the feature of \"tidak ambil\" is more higher in positive log proba column, the model will classified this text as positive.\n",
    "\n",
    "If the feature is not listed on feature list the model will classified the feature as positive. The classification model classified the text of \"tidak adaaaaaaa\" because there is no feature of \"not_adaaaaa\" in the feature list. Since the log prior class of positive higher than negative class, this cause the model classified a document which has no feature in the model as positive.\n",
    "\n",
    "Since this model is created only from 1800 tweets and only 380 tweets contain negation word, this model still need to be enhancted by adding more negation data.\n",
    "\n"
   ]
  },
  {
   "cell_type": "markdown",
   "metadata": {},
   "source": [
    "## Error analysis word order"
   ]
  },
  {
   "cell_type": "code",
   "execution_count": null,
   "metadata": {},
   "outputs": [],
   "source": [
    "test_text = [\"tidak untuk saat ini tapi , saya senang \"]\n",
    "test_text_after = cuspreprocessing(test_text)\n",
    "predict = text_classifier.predict(tfidf_vectorizer.transform([test_text_after]))\n",
    "print(test_text_after)\n",
    "print(predict)"
   ]
  },
  {
   "cell_type": "code",
   "execution_count": null,
   "metadata": {},
   "outputs": [],
   "source": [
    "test_text = [\"saya senang, tapi tidak untuk saat ini \"]\n",
    "test_text_after = cuspreprocessing(test_text)\n",
    "predict = text_classifier.predict(tfidf_vectorizer.transform([test_text_after]))\n",
    "print(test_text_after)\n",
    "print(predict)"
   ]
  },
  {
   "cell_type": "markdown",
   "metadata": {},
   "source": [
    "the test text on first cell with text \"tidak untuk saat ini tapi, saya senang\" (not for now, but i am happy) is classified as negative, however if we evaluate the text, it should be classified as positive.\n",
    "naive bayes ignore word order for text classification problems."
   ]
  },
  {
   "cell_type": "code",
   "execution_count": null,
   "metadata": {},
   "outputs": [],
   "source": []
  },
  {
   "cell_type": "code",
   "execution_count": null,
   "metadata": {},
   "outputs": [],
   "source": [
    "for word in pos_dict:\n",
    "    print(word, pos_dict[word])"
   ]
  },
  {
   "cell_type": "markdown",
   "metadata": {},
   "source": [
    "# Data visualization"
   ]
  },
  {
   "cell_type": "markdown",
   "metadata": {},
   "source": [
    "### Wordcloud for postive and negative tweets"
   ]
  },
  {
   "cell_type": "code",
   "execution_count": null,
   "metadata": {},
   "outputs": [],
   "source": [
    "tweet = ''\n",
    "for row in dataset:\n",
    "    tweet  = tweet + row['tweet'] + \" \"\n",
    "wordcloud = WordCloud(width=1600, height=800,max_font_size=200,background_color='white').generate(tweet)\n",
    "plt.figure(figsize=(12,10))\n",
    "plt.imshow(wordcloud, interpolation=\"bilinear\")\n",
    "plt.axis(\"off\")\n",
    "plt.show()"
   ]
  },
  {
   "cell_type": "markdown",
   "metadata": {},
   "source": [
    "### Wordcloud positive tweet"
   ]
  },
  {
   "cell_type": "code",
   "execution_count": null,
   "metadata": {},
   "outputs": [],
   "source": [
    "positive_tweet = ''\n",
    "for row in dataset:\n",
    "    if row['intent'] == 'positive':\n",
    "        positive_tweet  = positive_tweet + row['tweet'] + \" \"\n",
    "positive_tweet = positive_tweet.replace('atuser ', '')\n",
    "wordcloud = WordCloud(width=1600, height=800,max_font_size=200,background_color='white').generate(positive_tweet)\n",
    "plt.figure(figsize=(12,10))\n",
    "plt.imshow(wordcloud, interpolation=\"bilinear\")\n",
    "plt.axis(\"off\")\n",
    "plt.show()"
   ]
  },
  {
   "cell_type": "markdown",
   "metadata": {},
   "source": [
    "### Wordcloud negative tweet"
   ]
  },
  {
   "cell_type": "code",
   "execution_count": null,
   "metadata": {},
   "outputs": [],
   "source": [
    "negative_tweet = ''\n",
    "for row in dataset:\n",
    "    if row['intent'] == 'negative':\n",
    "        negative_tweet  = negative_tweet + row['tweet'] + \" \"\n",
    "negative_tweet = negative_tweet.replace('at_user ', '')\n",
    "\n",
    "wordcloud = WordCloud(width=1600, height=800,max_font_size=200,background_color='white').generate(negative_tweet)\n",
    "plt.figure(figsize=(12,10))\n",
    "plt.imshow(wordcloud, interpolation=\"bilinear\")\n",
    "plt.axis(\"off\")\n",
    "plt.show()"
   ]
  },
  {
   "cell_type": "markdown",
   "metadata": {},
   "source": [
    "# Hashtag Visualization"
   ]
  },
  {
   "cell_type": "code",
   "execution_count": null,
   "metadata": {},
   "outputs": [],
   "source": [
    "def hashtagPreprocessing(dataset):\n",
    "    # create stemmer\n",
    "    factory = StemmerFactory()\n",
    "    stemmer = factory.create_stemmer()\n",
    "    count = 0\n",
    "    for row in dataset:\n",
    "        #print(\"before : \",row['tweet'])\n",
    "        #convert sentence in lowercase\n",
    "        row['hashtag'] = row['hashtag'].lower()\n",
    "        row['tweet'] = re.sub('[^A-Za-z0-9 ]+','', row['tweet'])\n",
    "        #remove bracket\n",
    "        row['hashtag'] = row['hashtag'].replace('[','')\n",
    "        row['hashtag'] = row['hashtag'].replace(']','')\n",
    "        #remove #\n",
    "        row['hashtag'] = row['hashtag'].replace('#','')\n",
    "        #remove '\n",
    "        row['hashtag'] = row['hashtag'].replace(\"'\",'')\n",
    "        row['hashtag'] = row['hashtag'].replace(\",\",' ')\n",
    "hashtagPreprocessing(dataset)"
   ]
  },
  {
   "cell_type": "markdown",
   "metadata": {},
   "source": [
    "##### Code above is to remove unnecessary symbols such as ', #, [ and ] on hastag's column"
   ]
  },
  {
   "cell_type": "code",
   "execution_count": null,
   "metadata": {},
   "outputs": [],
   "source": [
    "hashtag = []\n",
    "for row in dataset:\n",
    "    word_tokens = word_tokenize(row['hashtag']) \n",
    "    for x in range(len(word_tokens)):\n",
    "        hashtag.append(word_tokens[x])\n",
    "print(Counter(hashtag))"
   ]
  },
  {
   "cell_type": "markdown",
   "metadata": {},
   "source": [
    "##### Tokenize each hastagh and store in array hastag\n",
    "##### by runnning this commented line \"#print(Counter(hashtag))\", we can get the frequencies of hastags used on the dataset"
   ]
  },
  {
   "cell_type": "code",
   "execution_count": null,
   "metadata": {},
   "outputs": [],
   "source": [
    "from pandas import DataFrame\n",
    "Data = {'hashtag': [],\n",
    "        'count': []\n",
    "       }\n",
    "dfHashtag = DataFrame(Data,columns=['hashtag','count'])\n",
    "dfHashtag = dfHashtag.append(pd.DataFrame([[\"indonesiaterserah\",994],[\"bansos\",704],[\"covid\",205],[\"kemensoshadir\",101],[\"juliaribatubara\",97],\n",
    "                                          [\"covid\",83],[\"dirumahaja\",82],[\"indonesiaabnormal\",69],[\"newnormal\",66],[\"indonesiamelawancovid19\",45],\n",
    "                                          ],columns=dfHashtag.columns),ignore_index=True)\n",
    "dfHashtag = dfHashtag.astype({'hashtag': 'str', 'count': 'int'})\n",
    "dfHashtag\n",
    "# a simple line plot\n",
    "dfHashtag.plot(kind='bar',x='hashtag',y='count')"
   ]
  },
  {
   "cell_type": "code",
   "execution_count": null,
   "metadata": {},
   "outputs": [],
   "source": [
    "positive_tweet = []\n",
    "for row in dataset:\n",
    "    if row['intent'] == 'positive':\n",
    "        word_tokens = word_tokenize(row['tweet']) \n",
    "        for x in range(len(word_tokens)):\n",
    "            #check if word used in hashtag\n",
    "            #if word_tokens[x] not in hashtag:\n",
    "            positive_tweet.append(word_tokens[x])\n",
    "#print(Counter(positive_tweet))"
   ]
  },
  {
   "cell_type": "code",
   "execution_count": null,
   "metadata": {},
   "outputs": [],
   "source": [
    "Data = {'word': [],\n",
    "        'count': []\n",
    "       }\n",
    "dfPositive = DataFrame(Data,columns=['word','count'])\n",
    "dfPositive = dfPositive.append(pd.DataFrame([[\"bansos\",478],[\"indonesiaterserah\",271],[\"covid\",219],[\"bantu\",190],[\"salur\",129],[\"mentri\",113],\n",
    "                                          [\"kemensoshadir\",94],[\"juliaribatubara\",91],[\"indonesia\",86],[\"terima\",86]\n",
    "                                          ],columns=dfPositive.columns),ignore_index=True)\n",
    "dfPositive = dfPositive.astype({'word': 'str', 'count': 'int'})\n",
    "dfPositive\n",
    "# a simple line plot\n",
    "dfPositive.plot(kind='bar',x='word',y='count')"
   ]
  },
  {
   "cell_type": "code",
   "execution_count": null,
   "metadata": {},
   "outputs": [],
   "source": [
    "negative_tweet = []\n",
    "for row in dataset:\n",
    "    if row['intent'] == 'negative':\n",
    "        word_tokens = word_tokenize(row['tweet']) \n",
    "        for x in range(len(word_tokens)):\n",
    "            #check if word used in hashtag\n",
    "            #if word_tokens[x] not in hashtag:\n",
    "            negative_tweet.append(word_tokens[x])\n",
    "#print(Counter(negative_tweet))"
   ]
  },
  {
   "cell_type": "code",
   "execution_count": null,
   "metadata": {},
   "outputs": [],
   "source": [
    "Data = {'word': [],\n",
    "        'count': []\n",
    "       }\n",
    "dfNegative = DataFrame(Data,columns=['word','count'])\n",
    "dfNegative = dfNegative.append(pd.DataFrame([[\"indonesiaterserah\",577],[\"bansos\",224],[\"covid\",221],[\"indonesia\",92],[\"pemerintah\",72],[\"orang\",67],\n",
    "                                          [\"corona\",60],[\"normal\",60],[\"udah\",57],[\"indonesiaabnormal\",55]\n",
    "                                          ],columns=dfNegative.columns),ignore_index=True)\n",
    "dfNegative = dfNegative.astype({'word': 'str', 'count': 'int'})\n",
    "dfNegative\n",
    "# a simple line plot\n",
    "dfNegative.plot(kind='bar',x='word',y='count')"
   ]
  },
  {
   "cell_type": "code",
   "execution_count": null,
   "metadata": {},
   "outputs": [],
   "source": []
  }
 ],
 "metadata": {
  "kernelspec": {
   "display_name": "Python 3",
   "language": "python",
   "name": "python3"
  },
  "language_info": {
   "codemirror_mode": {
    "name": "ipython",
    "version": 3
   },
   "file_extension": ".py",
   "mimetype": "text/x-python",
   "name": "python",
   "nbconvert_exporter": "python",
   "pygments_lexer": "ipython3",
   "version": "3.6.4"
  }
 },
 "nbformat": 4,
 "nbformat_minor": 2
}
